{
 "cells": [
  {
   "cell_type": "markdown",
   "id": "123456",
   "metadata": {},
   "source": [
    "<div style=\"text-align:left;font-size:2em\"><span style=\"font-weight:bolder;font-size:1.25em\">SP2273 | Learning Portfolio</span><br><br><span style=\"font-weight:bold;color:darkred\">Fundamentals (Need) Exercises</span></div>"
   ]
  },
  {
   "cell_type": "markdown",
   "id": "ad5d352f",
   "metadata": {},
   "source": [
    "## Exercise 1"
   ]
  },
  {
   "cell_type": "markdown",
   "id": "ab60f08d",
   "metadata": {},
   "source": [
    "|Basic Python features| \n",
    "|:---:|\n",
    "|input functions|\n",
    "|comment|\n",
    "|do math|\n",
    "|store data|\n",
    "|*make decisions*|"
   ]
  },
  {
   "cell_type": "markdown",
   "id": "922ea8b1",
   "metadata": {},
   "source": [
    "## Exercise 2"
   ]
  },
  {
   "cell_type": "markdown",
   "id": "49902801",
   "metadata": {},
   "source": [
    "Fix (debug) the following code to create a Pythagorean triple 3, 4, 5"
   ]
  },
  {
   "cell_type": "code",
   "execution_count": 10,
   "id": "1f3afed8",
   "metadata": {},
   "outputs": [],
   "source": [
    "import numpy as np"
   ]
  },
  {
   "cell_type": "code",
   "execution_count": 20,
   "id": "97ea48df",
   "metadata": {},
   "outputs": [
    {
     "name": "stdout",
     "output_type": "stream",
     "text": [
      "3 4 5.0\n"
     ]
    }
   ],
   "source": [
    "x, y = 3, 4\n",
    "\n",
    "z = np.sqrt(x**2 + y**2)\n",
    "\n",
    "print(x, y, z)"
   ]
  },
  {
   "cell_type": "markdown",
   "id": "71d99a3b",
   "metadata": {},
   "source": [
    "## Exercise 3"
   ]
  },
  {
   "cell_type": "markdown",
   "id": "a42d66b9",
   "metadata": {},
   "source": [
    "|#|\tTerm\t|$$Description$$|\n",
    "|:---|---|---:|\n",
    "|1|\tFunction|Block of reusable code designed to perform a specific task|\t\n",
    "|2|\tArguments|Values that are passed to a function when it is called|\t\n",
    "|3|\tComments|Annotations in the code that are ignored by the Python interpreter|\t\n",
    "|4|\tIndentations|Spaces or tabs at the beginning of a line of code, indicating whatever behind is a code|\n",
    "|5|\tPackages|A way of organizing related modules into a single directory hierarchy|\n",
    "|6|\t.\t|It is attribute accessor|\n",
    "|7|\t:\t|Used in Python to indicate the start of an indented code block|\n",
    "|8|\t[]\t|Used to define lists in Python|\n",
    "|9|\t[[[]]]|This represents nested lists, where one or more lists are nested inside another|\t\n",
    "|10|{}|Used to define dictionaries (key-value pairs) and sets in Python|"
   ]
  },
  {
   "cell_type": "markdown",
   "id": "8003d688",
   "metadata": {},
   "source": [
    "## Exercise 4"
   ]
  },
  {
   "cell_type": "markdown",
   "id": "f11603c9",
   "metadata": {},
   "source": [
    "Programming languages usually offer multiple options for dividing one number by another. Shown below are three such options. Either by observation (i.e., trial and error), Googling or discussing with a friend, figure out what each one does."
   ]
  },
  {
   "cell_type": "code",
   "execution_count": 21,
   "id": "5a3b8d03",
   "metadata": {},
   "outputs": [
    {
     "data": {
      "text/plain": [
       "2.5"
      ]
     },
     "execution_count": 21,
     "metadata": {},
     "output_type": "execute_result"
    }
   ],
   "source": [
    "5/2           # `/` divides "
   ]
  },
  {
   "cell_type": "code",
   "execution_count": 22,
   "id": "040875a1",
   "metadata": {},
   "outputs": [
    {
     "data": {
      "text/plain": [
       "2"
      ]
     },
     "execution_count": 22,
     "metadata": {},
     "output_type": "execute_result"
    }
   ],
   "source": [
    "5//2          # It performs division where the result is the quotient rounded down to the nearest integer. "
   ]
  },
  {
   "cell_type": "code",
   "execution_count": 23,
   "id": "f99f19cb",
   "metadata": {},
   "outputs": [
    {
     "data": {
      "text/plain": [
       "1"
      ]
     },
     "execution_count": 23,
     "metadata": {},
     "output_type": "execute_result"
    }
   ],
   "source": [
    "5%2           # It gives the remainder after division "
   ]
  }
 ],
 "metadata": {
  "kernelspec": {
   "display_name": "Python 3 (ipykernel)",
   "language": "python",
   "name": "python3"
  },
  "language_info": {
   "codemirror_mode": {
    "name": "ipython",
    "version": 3
   },
   "file_extension": ".py",
   "mimetype": "text/x-python",
   "name": "python",
   "nbconvert_exporter": "python",
   "pygments_lexer": "ipython3",
   "version": "3.11.5"
  },
  "toc": {
   "base_numbering": 1,
   "nav_menu": {},
   "number_sections": true,
   "sideBar": true,
   "skip_h1_title": false,
   "title_cell": "Table of Contents",
   "title_sidebar": "Contents",
   "toc_cell": false,
   "toc_position": {},
   "toc_section_display": true,
   "toc_window_display": false
  },
  "vscode": {
   "interpreter": {
    "hash": "31f2aee4e71d21fbe5cf8b01ff0e069b9275f58929596ceb00d14d90e3e16cd6"
   }
  }
 },
 "nbformat": 4,
 "nbformat_minor": 5
}
