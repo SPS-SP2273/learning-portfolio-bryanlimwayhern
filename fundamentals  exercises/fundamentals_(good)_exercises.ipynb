{
 "cells": [
  {
   "cell_type": "markdown",
   "id": "123456",
   "metadata": {},
   "source": [
    "<div style=\"text-align:left;font-size:2em\"><span style=\"font-weight:bolder;font-size:1.25em\">SP2273 | Learning Portfolio</span><br><br><span style=\"font-weight:bold;color:darkred\">Fundamentals (Good) Exercises</span></div>"
   ]
  },
  {
   "cell_type": "markdown",
   "id": "2e52c452",
   "metadata": {},
   "source": [
    "## Exercise 1\n",
    "\n",
    "Python allows you to solicit information from the user.\n",
    "\n",
    "One way to do this is using the input() function. Here is an example of how to use it."
   ]
  },
  {
   "cell_type": "code",
   "execution_count": 1,
   "id": "c07ff335",
   "metadata": {},
   "outputs": [
    {
     "name": "stdout",
     "output_type": "stream",
     "text": [
      "Give me a number?45\n",
      "You entered 45\n"
     ]
    }
   ],
   "source": [
    "user_input = input('Give me a number?')\n",
    "print('You entered', user_input)"
   ]
  },
  {
   "cell_type": "markdown",
   "id": "a14dc237",
   "metadata": {},
   "source": [
    "Write a Python program that takes a numerical grade (0-100) as input and outputs the corresponding letter grade based on the following criteria:\n",
    "\n",
    "|Grade|\tScore Range|\n",
    "|:---|---:|\n",
    "|A|\t70 - 100|\n",
    "|B|\t50 - 69|\n",
    "|C|\t35 - 49|\n",
    "|Fail|\t0 - 34|"
   ]
  },
  {
   "cell_type": "code",
   "execution_count": 2,
   "id": "e9577af7",
   "metadata": {},
   "outputs": [
    {
     "name": "stdout",
     "output_type": "stream",
     "text": [
      "sutdent_score70\n",
      "Letter grade is A\n"
     ]
    }
   ],
   "source": [
    "student_score = input('sutdent_score')\n",
    "student_score = int(student_score)\n",
    "\n",
    "if 70 <= student_score <= 100:\n",
    "        print('Letter grade is A')\n",
    "    \n",
    "elif 50 <= student_score <= 69:\n",
    "        print('Letter grade is B') \n",
    "    \n",
    "elif 35 <= student_score <= 49:\n",
    "        print('Letter grade is C')\n",
    "        \n",
    "elif 0 <= student_score <= 34:\n",
    "        print('Fail')\n",
    "        \n",
    "else:\n",
    "        print('Invalid input, out of range 0-100')"
   ]
  },
  {
   "cell_type": "code",
   "execution_count": 3,
   "id": "3e73a6bb",
   "metadata": {},
   "outputs": [
    {
     "name": "stdout",
     "output_type": "stream",
     "text": [
      "sutdent_score455\n",
      "Invalid input, out of range 0-100\n"
     ]
    }
   ],
   "source": [
    "student_score = input('sutdent_score')\n",
    "student_score = int(student_score)\n",
    "\n",
    "if 70 <= student_score <= 100:\n",
    "        print('Letter grade is A')\n",
    "    \n",
    "elif 50 <= student_score <= 69:\n",
    "        print('Letter grade is B') \n",
    "    \n",
    "elif 35 <= student_score <= 49:\n",
    "        print('Letter grade is C')\n",
    "        \n",
    "elif 0 <= student_score <= 34:\n",
    "        print('Fail')\n",
    "        \n",
    "else:\n",
    "        print('Invalid input, out of range 0-100')"
   ]
  },
  {
   "cell_type": "code",
   "execution_count": 4,
   "id": "65f01b3f",
   "metadata": {},
   "outputs": [
    {
     "name": "stdout",
     "output_type": "stream",
     "text": [
      "sutdent_score43\n",
      "Letter grade is C\n"
     ]
    }
   ],
   "source": [
    "student_score = input('sutdent_score')\n",
    "student_score = int(student_score)\n",
    "\n",
    "if 70 <= student_score <= 100:\n",
    "        print('Letter grade is A')\n",
    "    \n",
    "elif 50 <= student_score <= 69:\n",
    "        print('Letter grade is B') \n",
    "    \n",
    "elif 35 <= student_score <= 49:\n",
    "        print('Letter grade is C')\n",
    "        \n",
    "elif 0 <= student_score <= 34:\n",
    "        print('Fail')\n",
    "        \n",
    "else:\n",
    "        print('Invalid input')"
   ]
  },
  {
   "cell_type": "code",
   "execution_count": 5,
   "id": "6d0680fe",
   "metadata": {},
   "outputs": [
    {
     "name": "stdout",
     "output_type": "stream",
     "text": [
      "sutdent_score6\n",
      "Fail\n"
     ]
    }
   ],
   "source": [
    "student_score = input('sutdent_score')\n",
    "student_score = int(student_score)\n",
    "\n",
    "if 70 <= student_score <= 100:\n",
    "        print('Letter grade is A')\n",
    "    \n",
    "elif 50 <= student_score <= 69:\n",
    "        print('Letter grade is B') \n",
    "    \n",
    "elif 35 <= student_score <= 49:\n",
    "        print('Letter grade is C')\n",
    "        \n",
    "elif 0 <= student_score <= 34:\n",
    "        print('Fail')\n",
    "        \n",
    "else:\n",
    "        print('Invalid input')"
   ]
  },
  {
   "cell_type": "code",
   "execution_count": null,
   "id": "7ec27740",
   "metadata": {},
   "outputs": [],
   "source": []
  }
 ],
 "metadata": {
  "kernelspec": {
   "display_name": "Python 3 (ipykernel)",
   "language": "python",
   "name": "python3"
  },
  "language_info": {
   "codemirror_mode": {
    "name": "ipython",
    "version": 3
   },
   "file_extension": ".py",
   "mimetype": "text/x-python",
   "name": "python",
   "nbconvert_exporter": "python",
   "pygments_lexer": "ipython3",
   "version": "3.11.5"
  },
  "toc": {
   "base_numbering": 1,
   "nav_menu": {},
   "number_sections": true,
   "sideBar": true,
   "skip_h1_title": false,
   "title_cell": "Table of Contents",
   "title_sidebar": "Contents",
   "toc_cell": false,
   "toc_position": {},
   "toc_section_display": true,
   "toc_window_display": false
  },
  "vscode": {
   "interpreter": {
    "hash": "31f2aee4e71d21fbe5cf8b01ff0e069b9275f58929596ceb00d14d90e3e16cd6"
   }
  }
 },
 "nbformat": 4,
 "nbformat_minor": 5
}
