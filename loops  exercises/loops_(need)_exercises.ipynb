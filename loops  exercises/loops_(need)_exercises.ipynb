{
 "cells": [
  {
   "cell_type": "markdown",
   "id": "123456",
   "metadata": {},
   "source": [
    "<div style=\"text-align:left;font-size:2em\"><span style=\"font-weight:bolder;font-size:1.25em\">SP2273 | Learning Portfolio</span><br><br><span style=\"font-weight:bold;color:darkred\">Loops (Need) Exercises</span></div>"
   ]
  },
  {
   "cell_type": "markdown",
   "id": "cffbb611",
   "metadata": {},
   "source": [
    "## Exercise 1 (Celcius to Farenheit) \n",
    "\n",
    "You are provided with the following list of temperatures in Celsius. Write a quick Python snippet that converts each temperature to Fahrenheit and prints both temperatures."
   ]
  },
  {
   "cell_type": "code",
   "execution_count": 1,
   "id": "2c1c483f",
   "metadata": {},
   "outputs": [],
   "source": [
    "temperatures_celsius = [\n",
    "    0, 5, 10, 15, 20, 25,\n",
    "    30, 35, 40, 45, 50\n",
    "]"
   ]
  },
  {
   "cell_type": "code",
   "execution_count": 4,
   "id": "e0001b34",
   "metadata": {},
   "outputs": [
    {
     "name": "stdout",
     "output_type": "stream",
     "text": [
      "0 Celsius is 32.0 Fahrenheit\n",
      "5 Celsius is 41.0 Fahrenheit\n",
      "10 Celsius is 50.0 Fahrenheit\n",
      "15 Celsius is 59.0 Fahrenheit\n",
      "20 Celsius is 68.0 Fahrenheit\n",
      "25 Celsius is 77.0 Fahrenheit\n",
      "30 Celsius is 86.0 Fahrenheit\n",
      "35 Celsius is 95.0 Fahrenheit\n",
      "40 Celsius is 104.0 Fahrenheit\n",
      "45 Celsius is 113.0 Fahrenheit\n",
      "50 Celsius is 122.0 Fahrenheit\n"
     ]
    }
   ],
   "source": [
    "def celsius_to_fahrenheit(celsius):\n",
    "    return (celsius * 9/5) + 32\n",
    "\n",
    "for celsius in temperatures_celsius:\n",
    "    fahrenheit = celsius_to_fahrenheit(celsius)\n",
    "    print(f\"{celsius} Celsius is {fahrenheit} Fahrenheit\")\n"
   ]
  },
  {
   "cell_type": "markdown",
   "id": "c94a977c",
   "metadata": {},
   "source": [
    "## Exercise 2\n",
    "\n",
    "You can put a loop within a loop to do doubly loopy stuff. Here is an example:"
   ]
  },
  {
   "cell_type": "code",
   "execution_count": 16,
   "id": "d69a9ad5",
   "metadata": {},
   "outputs": [
    {
     "name": "stdout",
     "output_type": "stream",
     "text": [
      "A1\tA2\tA3\t\n",
      "\n",
      "B1\tB2\tB3\t\n",
      "\n",
      "C1\tC2\tC3\t\n",
      "\n"
     ]
    }
   ],
   "source": [
    "for letter in ['A', 'B', 'C']:\n",
    "    for number in [1, 2, 3]:\n",
    "        print(f'{letter}{number}', end='\\t')\n",
    "    print('\\n')"
   ]
  },
  {
   "cell_type": "markdown",
   "id": "4e32c569",
   "metadata": {},
   "source": [
    "Write a Python snippet that prints a multiplication table (up to 5) for numbers 1 through 5 using nested for loops."
   ]
  },
  {
   "cell_type": "code",
   "execution_count": 25,
   "id": "efa87a69",
   "metadata": {},
   "outputs": [
    {
     "name": "stdout",
     "output_type": "stream",
     "text": [
      "1 :   1   2   3   4   5\n",
      "2 :   2   4   6   8  10\n",
      "3 :   3   6   9  12  15\n",
      "4 :   4   8  12  16  20\n",
      "5 :   5  10  15  20  25\n"
     ]
    }
   ],
   "source": [
    "for i in range(1, 6):\n",
    "    row = f\"{i} :\"\n",
    "    for j in range(1, 6):\n",
    "        row += f\" {i * j:3}\"  # Format each product with 3 characters width\n",
    "    print(row)\n"
   ]
  },
  {
   "cell_type": "markdown",
   "id": "dbdbdc3c",
   "metadata": {},
   "source": [
    "Explanation of respective code functions: \n",
    "\n",
    "Outer Loop (for i in range(1, 6):):\n",
    "\n",
    "The outer loop iterates over the numbers 1 through 5 (inclusive). The variable i represents the current row in the multiplication table.\n",
    "\n",
    "Row Initialization (row = f\"{i} :\"):\n",
    "\n",
    "For each value of i, a new row is initialized as a string containing the value of i followed by a colon. This forms the leftmost part of each row.\n",
    "\n",
    "Inner Loop (for j in range(1, 6):):\n",
    "\n",
    "The inner loop iterates over the numbers 1 through 5 (inclusive). The variable j represents the current column in the multiplication table.\n",
    "\n",
    "Product Calculation (row += f\" {i * j:3}\"):\n",
    "\n",
    "Within the inner loop, the product of i * j is calculated for each combination of i and j. The resulting product is formatted using f\"{i * j:3}\". Here, :3 specifies that the resulting string should be right-aligned within a field of width 3 characters. This ensures that the columns are aligned neatly.\n",
    "\n",
    "Row Printing (print(row):\n",
    "\n",
    "After the inner loop completes for a specific value of i, the row is printed. This prints the entire row, including the leftmost part (which is the value of i followed by a colon) and the calculated products for each column.\n",
    "\n",
    "Overall Output:\n",
    "\n",
    "The nested loops and formatting result in the printing of a multiplication table where each row corresponds to a number from 1 to 5, and each column in that row contains the product of the row number and the column number."
   ]
  },
  {
   "cell_type": "code",
   "execution_count": null,
   "id": "819f902b",
   "metadata": {},
   "outputs": [],
   "source": []
  }
 ],
 "metadata": {
  "kernelspec": {
   "display_name": "Python 3 (ipykernel)",
   "language": "python",
   "name": "python3"
  },
  "language_info": {
   "codemirror_mode": {
    "name": "ipython",
    "version": 3
   },
   "file_extension": ".py",
   "mimetype": "text/x-python",
   "name": "python",
   "nbconvert_exporter": "python",
   "pygments_lexer": "ipython3",
   "version": "3.11.5"
  },
  "toc": {
   "base_numbering": 1,
   "nav_menu": {},
   "number_sections": true,
   "sideBar": true,
   "skip_h1_title": false,
   "title_cell": "Table of Contents",
   "title_sidebar": "Contents",
   "toc_cell": false,
   "toc_position": {},
   "toc_section_display": true,
   "toc_window_display": false
  },
  "vscode": {
   "interpreter": {
    "hash": "31f2aee4e71d21fbe5cf8b01ff0e069b9275f58929596ceb00d14d90e3e16cd6"
   }
  }
 },
 "nbformat": 4,
 "nbformat_minor": 5
}
