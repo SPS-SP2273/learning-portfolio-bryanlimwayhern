{
 "cells": [
  {
   "cell_type": "markdown",
   "id": "123456",
   "metadata": {},
   "source": [
    "<div style=\"text-align:left;font-size:2em\"><span style=\"font-weight:bolder;font-size:1.25em\">SP2273 | Learning Portfolio</span><br><br><span style=\"font-weight:bold;color:darkred\">Loops (Need)</span></div>"
   ]
  },
  {
   "cell_type": "markdown",
   "id": "bff99e9e",
   "metadata": {},
   "source": [
    "# What to expect in this chapter"
   ]
  },
  {
   "cell_type": "markdown",
   "id": "61908263",
   "metadata": {},
   "source": [
    "One of the most powerful features of programming is the ability to repeat a task over and over again.\n",
    "\n",
    "This section will show you how to repeat things in Python. This topic is called loops or iterations and is one of the most valuable features of any programming language.\n",
    "\n",
    "Python offers two mechanisms for looping. One is the for statement, and the other is the while statement. "
   ]
  },
  {
   "cell_type": "markdown",
   "id": "6be7c02f",
   "metadata": {},
   "source": [
    "# 1 The for iterator"
   ]
  },
  {
   "cell_type": "markdown",
   "id": "386bfcdb",
   "metadata": {},
   "source": [
    "To print a message corresponding to every superhero in the following list:"
   ]
  },
  {
   "cell_type": "code",
   "execution_count": 1,
   "id": "5072775c",
   "metadata": {},
   "outputs": [],
   "source": [
    "real_names = [\"Natasha Romanoff\", \"Tony Stark\", \"Stephen Strange\"]"
   ]
  },
  {
   "cell_type": "markdown",
   "id": "5f0240f2",
   "metadata": {},
   "source": [
    "Here is one (poor) way of doing this."
   ]
  },
  {
   "cell_type": "code",
   "execution_count": 2,
   "id": "49448d60",
   "metadata": {},
   "outputs": [
    {
     "name": "stdout",
     "output_type": "stream",
     "text": [
      "Natasha Romanoff is a Marvel superhero!\n",
      "Tony Stark is a Marvel superhero!\n",
      "Stephen Strange is a Marvel superhero!\n"
     ]
    }
   ],
   "source": [
    "name=real_names[0]\n",
    "print(f\"{name} is a Marvel superhero!\")\n",
    "\n",
    "name=real_names[1]\n",
    "print(f\"{name} is a Marvel superhero!\")\n",
    "\n",
    "name=real_names[2]\n",
    "print(f\"{name} is a Marvel superhero!\")"
   ]
  },
  {
   "cell_type": "markdown",
   "id": "3ba78249",
   "metadata": {},
   "source": [
    "This way of programming is not very good because:\n",
    "\n",
    "- it does not scale very well (imagine if you have a 100 names!),\n",
    "- it is cumbersome to make changes, you have to do it three times.\n",
    "- it is highly error prone, since you need to type something new (even if you are copying and pasting most of it).\n",
    "\n",
    "This is where a for loop can come in handy."
   ]
  },
  {
   "cell_type": "markdown",
   "id": "af9ddc7c",
   "metadata": {},
   "source": [
    "# 1.1 for with a list\n",
    "\n",
    "I can achieve the same result using a for loop as follows:"
   ]
  },
  {
   "cell_type": "code",
   "execution_count": 3,
   "id": "6529c478",
   "metadata": {},
   "outputs": [
    {
     "name": "stdout",
     "output_type": "stream",
     "text": [
      "Natasha Romanoff is a Marvel superhero!\n",
      "Tony Stark is a Marvel superhero!\n",
      "Stephen Strange is a Marvel superhero!\n"
     ]
    }
   ],
   "source": [
    "for name in real_names:\n",
    "    print(f\"{name} is a Marvel superhero!\")"
   ]
  },
  {
   "cell_type": "markdown",
   "id": "4f040d01",
   "metadata": {},
   "source": [
    "Notice that:\n",
    "- it goes through the list and assigns name the value of each element of the list.\n",
    "- it then runs the code-block using this value of name.\n",
    "- the code block is deginted by using : and tabs like with if."
   ]
  },
  {
   "cell_type": "code",
   "execution_count": 4,
   "id": "8a6b18e1",
   "metadata": {},
   "outputs": [
    {
     "name": "stdout",
     "output_type": "stream",
     "text": [
      "Natasha Romanoff is a Marvel superhero!\n",
      "Tony Stark is a Marvel superhero!\n",
      "Stephen Strange is a Marvel superhero!\n"
     ]
    }
   ],
   "source": [
    "for x in real_names:\n",
    "    print(f\"{x} is a Marvel superhero!\")"
   ]
  },
  {
   "cell_type": "markdown",
   "id": "afe70f02",
   "metadata": {},
   "source": [
    "# for with enumerate"
   ]
  },
  {
   "cell_type": "markdown",
   "id": "d70da38e",
   "metadata": {},
   "source": [
    "Let’s say we want to do a bit more, like using the information in both of the following lists."
   ]
  },
  {
   "cell_type": "code",
   "execution_count": 2,
   "id": "372f8b11",
   "metadata": {},
   "outputs": [],
   "source": [
    "super_names = [\"Black Widow\", \"Iron Man\", \"Doctor Strange\"]\n",
    "real_names = [\"Natasha Romanoff\", \"Tony Stark\", \"Stephen Strange\"]"
   ]
  },
  {
   "cell_type": "markdown",
   "id": "57b40e76",
   "metadata": {},
   "source": [
    "Since the for loop only accepts one list, we need to do something else to access the data in both lists. One option is to use enumerate(). "
   ]
  },
  {
   "cell_type": "code",
   "execution_count": 6,
   "id": "6d934ffc",
   "metadata": {},
   "outputs": [
    {
     "name": "stdout",
     "output_type": "stream",
     "text": [
      "0: Natasha Romanoff is a Marvel superhero!\n",
      "1: Tony Stark is a Marvel superhero!\n",
      "2: Stephen Strange is a Marvel superhero!\n"
     ]
    }
   ],
   "source": [
    "for count, name in enumerate(real_names):\n",
    "    print(f'{count}: {name} is a Marvel superhero!')"
   ]
  },
  {
   "cell_type": "markdown",
   "id": "88ffd41d",
   "metadata": {},
   "source": [
    "Think of enumerate() as something that keeps count. In the above example, enumerate() not only gives the elements of the list, it also gives you a number (that is stored in count).\n",
    "\n",
    "Other than counting, we can use the count given by enumerate() to index the other list!"
   ]
  },
  {
   "cell_type": "code",
   "execution_count": 6,
   "id": "33ac9829",
   "metadata": {},
   "outputs": [
    {
     "name": "stdout",
     "output_type": "stream",
     "text": [
      "0 Natasha Romanoff is Black Widow!\n",
      "1 Tony Stark is Iron Man!\n",
      "2 Stephen Strange is Doctor Strange!\n"
     ]
    }
   ],
   "source": [
    "for index, name in enumerate(real_names):\n",
    "    superhero_name = super_names[index]\n",
    "    print(index, f'{name} is {superhero_name}!')"
   ]
  },
  {
   "cell_type": "code",
   "execution_count": 9,
   "id": "eb2bf260",
   "metadata": {},
   "outputs": [
    {
     "data": {
      "text/plain": [
       "'Black Widow'"
      ]
     },
     "execution_count": 9,
     "metadata": {},
     "output_type": "execute_result"
    }
   ],
   "source": [
    "super_names[0]"
   ]
  },
  {
   "cell_type": "code",
   "execution_count": 11,
   "id": "b4c10783",
   "metadata": {},
   "outputs": [
    {
     "data": {
      "text/plain": [
       "'D'"
      ]
     },
     "execution_count": 11,
     "metadata": {},
     "output_type": "execute_result"
    }
   ],
   "source": [
    "superhero_name[0]  #why is it D? "
   ]
  },
  {
   "cell_type": "markdown",
   "id": "eee63974",
   "metadata": {},
   "source": [
    "Although by default, enumerate() starts counting from 0, we can easily change it to start at another value, say 100."
   ]
  },
  {
   "cell_type": "code",
   "execution_count": 12,
   "id": "d9d1117f",
   "metadata": {},
   "outputs": [
    {
     "name": "stdout",
     "output_type": "stream",
     "text": [
      "100: Natasha Romanoff is a Marvel superhero!\n",
      "101: Tony Stark is a Marvel superhero!\n",
      "102: Stephen Strange is a Marvel superhero!\n"
     ]
    }
   ],
   "source": [
    "for count, name in enumerate(real_names, 100):\n",
    "    print(f'{count}: {name} is a Marvel superhero!')"
   ]
  },
  {
   "cell_type": "markdown",
   "id": "c9c19dd9",
   "metadata": {},
   "source": [
    "Remember that for can be combined with enumerate() to count while looping through a list."
   ]
  },
  {
   "cell_type": "markdown",
   "id": "0acf7e29",
   "metadata": {},
   "source": [
    "## 1.3 for with range"
   ]
  },
  {
   "cell_type": "markdown",
   "id": "f2281bbc",
   "metadata": {},
   "source": [
    "Another way to achieve the result above is by using the function range(). But, first lets see what range() can do."
   ]
  },
  {
   "cell_type": "code",
   "execution_count": 16,
   "id": "d71a1f35",
   "metadata": {},
   "outputs": [
    {
     "name": "stdout",
     "output_type": "stream",
     "text": [
      "0\n",
      "1\n",
      "2\n",
      "3\n",
      "4\n"
     ]
    }
   ],
   "source": [
    "for i in range(5):\n",
    "    print(i)                  #We can use range() to get the for loop to run a given number of loops"
   ]
  },
  {
   "cell_type": "code",
   "execution_count": 17,
   "id": "e1100db5",
   "metadata": {},
   "outputs": [
    {
     "name": "stdout",
     "output_type": "stream",
     "text": [
      "0\n",
      "1\n",
      "2\n"
     ]
    }
   ],
   "source": [
    "for idk in range(3):\n",
    "        print(idk)           #the term after for is interchangable "
   ]
  },
  {
   "cell_type": "code",
   "execution_count": 18,
   "id": "e065d063",
   "metadata": {},
   "outputs": [
    {
     "name": "stdout",
     "output_type": "stream",
     "text": [
      "5\n",
      "6\n",
      "7\n",
      "8\n",
      "9\n"
     ]
    }
   ],
   "source": [
    "for i in range(5, 10):\n",
    "    print(i)                #We can tailor the starting and ending values…"
   ]
  },
  {
   "cell_type": "code",
   "execution_count": 21,
   "id": "bccb7b69",
   "metadata": {},
   "outputs": [
    {
     "name": "stdout",
     "output_type": "stream",
     "text": [
      "1\n",
      "4\n",
      "7\n"
     ]
    }
   ],
   "source": [
    "for i in range(1, 10, 3):\n",
    "    print(i)                #This prints index 1 to 10 in steps of 3\n",
    "                            #There is no 10 (which is index 11) as range() always ends one short of the ending number"
   ]
  },
  {
   "cell_type": "markdown",
   "id": "4b322f4c",
   "metadata": {},
   "source": [
    "Now, let’s return to our initial problem of printing superhero names. We can use range() as follows:"
   ]
  },
  {
   "cell_type": "code",
   "execution_count": 22,
   "id": "7f10f12b",
   "metadata": {},
   "outputs": [
    {
     "name": "stdout",
     "output_type": "stream",
     "text": [
      "Natasha Romanoff is Marvel's Black Widow!\n",
      "Tony Stark is Marvel's Iron Man!\n",
      "Stephen Strange is Marvel's Doctor Strange!\n"
     ]
    }
   ],
   "source": [
    "for i in range(len(real_names)):\n",
    "    real_name = real_names[i]\n",
    "    super_name = super_names[i]        \n",
    "    print(f\"{real_name} is Marvel's {super_name}!\")"
   ]
  },
  {
   "cell_type": "markdown",
   "id": "35402383",
   "metadata": {},
   "source": [
    "# 2 while"
   ]
  },
  {
   "cell_type": "markdown",
   "id": "d38493e6",
   "metadata": {},
   "source": [
    "A while loop is set up so that it keeps on running while a condition is True. So the while loop checks the condition at the start and begins another loop if it is True.\n",
    "\n",
    "A useful feature of the while loop is that you do not need to know beforehand how many iterations are needed."
   ]
  },
  {
   "cell_type": "code",
   "execution_count": 5,
   "id": "d904c945",
   "metadata": {},
   "outputs": [
    {
     "name": "stdout",
     "output_type": "stream",
     "text": [
      "0\n",
      "1\n",
      "2\n",
      "3\n",
      "4\n"
     ]
    }
   ],
   "source": [
    "number = 0\n",
    "\n",
    "while number < 5:\n",
    "    print(number)\n",
    "    number += 1"
   ]
  },
  {
   "cell_type": "code",
   "execution_count": null,
   "id": "c82d61a6",
   "metadata": {},
   "outputs": [],
   "source": []
  }
 ],
 "metadata": {
  "kernelspec": {
   "display_name": "Python 3 (ipykernel)",
   "language": "python",
   "name": "python3"
  },
  "language_info": {
   "codemirror_mode": {
    "name": "ipython",
    "version": 3
   },
   "file_extension": ".py",
   "mimetype": "text/x-python",
   "name": "python",
   "nbconvert_exporter": "python",
   "pygments_lexer": "ipython3",
   "version": "3.11.5"
  },
  "toc": {
   "base_numbering": 1,
   "nav_menu": {},
   "number_sections": true,
   "sideBar": true,
   "skip_h1_title": false,
   "title_cell": "Table of Contents",
   "title_sidebar": "Contents",
   "toc_cell": false,
   "toc_position": {},
   "toc_section_display": true,
   "toc_window_display": false
  },
  "vscode": {
   "interpreter": {
    "hash": "31f2aee4e71d21fbe5cf8b01ff0e069b9275f58929596ceb00d14d90e3e16cd6"
   }
  }
 },
 "nbformat": 4,
 "nbformat_minor": 5
}
