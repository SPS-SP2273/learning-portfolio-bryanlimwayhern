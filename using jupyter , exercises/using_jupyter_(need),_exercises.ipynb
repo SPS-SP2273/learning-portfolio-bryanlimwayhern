{
 "cells": [
  {
   "cell_type": "markdown",
   "id": "123456",
   "metadata": {},
   "source": [
    "<div style=\"text-align:left;font-size:2em\"><span style=\"font-weight:bolder;font-size:1.25em\">SP2273 | Learning Portfolio</span><br><br><span style=\"font-weight:bold;color:darkred\">Using Jupyter (Need), Exercises</span></div>"
   ]
  },
  {
   "cell_type": "markdown",
   "id": "7ad024f8",
   "metadata": {},
   "source": [
    "## Quadratic Equations"
   ]
  },
  {
   "cell_type": "markdown",
   "id": "78e776f9",
   "metadata": {},
   "source": [
    "### Introduction"
   ]
  },
  {
   "cell_type": "markdown",
   "id": "4799aaf1",
   "metadata": {},
   "source": [
    "\n",
    "![](https://upload.wikimedia.org/wikipedia/commons/f/f8/Polynomialdeg2.svg)\n"
   ]
  },
  {
   "cell_type": "markdown",
   "id": "23ce02c0",
   "metadata": {},
   "source": [
    "The general form of a quadratic equation is: \n",
    "\n",
    "$ax^2+bx+c=0$"
   ]
  },
  {
   "cell_type": "markdown",
   "id": "2641f9df",
   "metadata": {},
   "source": [
    "### Solutions"
   ]
  },
  {
   "cell_type": "markdown",
   "id": "3f76a666",
   "metadata": {},
   "source": [
    "Provided $a\\ne0$ we can use an elementary algebraic method called completeing the square to show that a quadratic equation has the following solution:\n",
    "$$\n",
    "x = \\dfrac{-b \\pm \\sqrt{b^2-4ac}}{2a}\n",
    "$$\n"
   ]
  },
  {
   "cell_type": "markdown",
   "id": "9f684b69",
   "metadata": {},
   "source": [
    "### Discriminant"
   ]
  },
  {
   "cell_type": "markdown",
   "id": "f26539f0",
   "metadata": {},
   "source": []
  },
  {
   "cell_type": "markdown",
   "id": "1ddb80ec",
   "metadata": {},
   "source": [
    "The quantity $\\Delta=b^2-4ac$ is called the discriminant of the equation and decides the nature of its solutions. The table below shows the various possibilities.\n",
    "\n",
    "|    **Discriminant**    | **Roots**       |\n",
    "|:---|---:|\n",
    "|$$\\Delta = b^2-4ac = 0$$|A single solution of $-b/(2a)$|\n",
    "|$\\Delta = b^2-4ac\\gt0$|Two distinct solutions             |\n",
    "|$\\Delta = b^2-4ac\\lt0$|No real solutions; both are complex|"
   ]
  },
  {
   "cell_type": "markdown",
   "id": "d38494f2",
   "metadata": {},
   "source": [
    "## Exercise 2"
   ]
  },
  {
   "cell_type": "markdown",
   "id": "065a4316",
   "metadata": {},
   "source": [
    "1. What is a **Git repository**? \n",
    "\n",
    "    A Git repository is a version control system that allows multiple developers to collaborate on a project. It stores the entire history of a project, including changes made to files over time. A Git repository can be local (on your computer) or remote (hosted on a server)."
   ]
  },
  {
   "cell_type": "markdown",
   "id": "15781e91",
   "metadata": {},
   "source": [
    "2. Git keeps track of **changes** in the files in our repository. "
   ]
  },
  {
   "cell_type": "markdown",
   "id": "23ac6d02",
   "metadata": {},
   "source": [
    "3. What is a **commit**?\n",
    "\n",
    "    A commit in Git is a snapshot of the project at a specific point in time. It represents a set of changes made to the files, and each commit has a unique identifier (hash) that allows you to reference it."
   ]
  },
  {
   "cell_type": "markdown",
   "id": "2a428d84",
   "metadata": {},
   "source": [
    "4. What is a **push**?\n",
    "\n",
    "    Pushing in Git refers to the act of sending your committed changes to a remote repository. This is typically done to share your work with others or to synchronize your changes with a central repository."
   ]
  },
  {
   "cell_type": "markdown",
   "id": "1c0f2075",
   "metadata": {},
   "source": [
    "5. What is a **pull**?\n",
    "\n",
    "    Pulling in Git refers to the act of fetching changes from a remote repository and merging them into your local branch. This is done to incorporate changes made by others into your working copy."
   ]
  },
  {
   "cell_type": "markdown",
   "id": "b0d37eab",
   "metadata": {},
   "source": [
    "6. What is the difference between **GitHub** and **GitHub Desktop**?\n",
    "\n",
    "    GitHub is a web-based platform that provides hosting for Git repositories. It includes collaboration features like issue tracking, pull requests, and more. GitHub Desktop, on the other hand, is a desktop application that provides a graphical interface for working with Git repositories. While GitHub allows you to interact with repositories through a web browser, GitHub Desktop is a standalone application that simplifies common Git operations for users who prefer a graphical interface over the command line. Essentially, GitHub is a web platform for hosting and collaborating on Git repositories, while GitHub Desktop is a desktop application for working with Git repositories on your local machine."
   ]
  }
 ],
 "metadata": {
  "kernelspec": {
   "display_name": "Python 3 (ipykernel)",
   "language": "python",
   "name": "python3"
  },
  "language_info": {
   "codemirror_mode": {
    "name": "ipython",
    "version": 3
   },
   "file_extension": ".py",
   "mimetype": "text/x-python",
   "name": "python",
   "nbconvert_exporter": "python",
   "pygments_lexer": "ipython3",
   "version": "3.11.5"
  },
  "toc": {
   "base_numbering": 1,
   "nav_menu": {},
   "number_sections": true,
   "sideBar": true,
   "skip_h1_title": false,
   "title_cell": "Table of Contents",
   "title_sidebar": "Contents",
   "toc_cell": false,
   "toc_position": {},
   "toc_section_display": true,
   "toc_window_display": false
  },
  "vscode": {
   "interpreter": {
    "hash": "31f2aee4e71d21fbe5cf8b01ff0e069b9275f58929596ceb00d14d90e3e16cd6"
   }
  }
 },
 "nbformat": 4,
 "nbformat_minor": 5
}
