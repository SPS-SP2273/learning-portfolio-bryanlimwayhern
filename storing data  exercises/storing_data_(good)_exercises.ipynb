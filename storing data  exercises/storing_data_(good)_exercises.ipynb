{
 "cells": [
  {
   "cell_type": "markdown",
   "id": "123456",
   "metadata": {},
   "source": [
    "<div style=\"text-align:left;font-size:2em\"><span style=\"font-weight:bolder;font-size:1.25em\">SP2273 | Learning Portfolio</span><br><br><span style=\"font-weight:bold;color:darkred\">Storing Data (Good) Exercises</span></div>"
   ]
  },
  {
   "cell_type": "markdown",
   "id": "61fc4671",
   "metadata": {},
   "source": [
    "## Exercise 1\n",
    "\n",
    "Purely from memory, write short descriptions of the following terms:\n",
    "\n",
    "|Term\t      |$$ Brief description $$|\n",
    "|:---|---:|\n",
    "|Subsetting\t| To select a subset of data in a list|\n",
    "|Indexing\t| To select only one element from the list|\n",
    "|Slicing\t| To select a range of elements from the list|\n",
    "|Masking\t| To 'hide' other unwanted data from the list|"
   ]
  },
  {
   "cell_type": "markdown",
   "id": "6b74f8ee",
   "metadata": {},
   "source": [
    "## Exercise 2 "
   ]
  },
  {
   "cell_type": "code",
   "execution_count": 2,
   "id": "76e19e1f",
   "metadata": {},
   "outputs": [],
   "source": [
    "import numpy as np"
   ]
  },
  {
   "cell_type": "code",
   "execution_count": 3,
   "id": "956df43b",
   "metadata": {},
   "outputs": [],
   "source": [
    "np_array_2d = np.array([[1, \"A\"], [3, \"C\"], [2, \"B\"], [4, \"D\"],\n",
    "                        [5, \"E\"], [7, \"G\"], [6, \"F\"], [8, \"H\"],\n",
    "                        [10, \"J\"], [9, \"I\"]])"
   ]
  },
  {
   "cell_type": "markdown",
   "id": "12a6632d",
   "metadata": {},
   "source": [
    "Use masking to subset the letters that correspond to the odd numbers. I.e., get the result [A, C, E, G, I]."
   ]
  },
  {
   "cell_type": "code",
   "execution_count": 11,
   "id": "3d68b150",
   "metadata": {},
   "outputs": [
    {
     "data": {
      "text/plain": [
       "array(['1', '3', '2', '4', '5', '7', '6', '8', '10', '9'], dtype='<U11')"
      ]
     },
     "execution_count": 11,
     "metadata": {},
     "output_type": "execute_result"
    }
   ],
   "source": [
    "np_array_2d[:,0]"
   ]
  },
  {
   "cell_type": "code",
   "execution_count": 12,
   "id": "1fac2da1",
   "metadata": {},
   "outputs": [],
   "source": [
    "original_array = np_array_2d[:,0] "
   ]
  },
  {
   "cell_type": "code",
   "execution_count": 13,
   "id": "62661d6a",
   "metadata": {},
   "outputs": [],
   "source": [
    "new_array = original_array.astype(int)"
   ]
  },
  {
   "cell_type": "code",
   "execution_count": 32,
   "id": "f42b0eb3",
   "metadata": {},
   "outputs": [],
   "source": [
    "odd_numbers_mask = new_array % 2 == 1"
   ]
  },
  {
   "cell_type": "code",
   "execution_count": 35,
   "id": "4fb6547b",
   "metadata": {},
   "outputs": [
    {
     "name": "stdout",
     "output_type": "stream",
     "text": [
      "[ True  True False False  True  True False False False  True]\n"
     ]
    }
   ],
   "source": [
    "print(odd_numbers_mask)"
   ]
  },
  {
   "cell_type": "code",
   "execution_count": 33,
   "id": "7d0e35b5",
   "metadata": {},
   "outputs": [],
   "source": [
    "result = np_array_2d[odd_numbers_mask, 1]"
   ]
  },
  {
   "cell_type": "code",
   "execution_count": 34,
   "id": "598e727c",
   "metadata": {},
   "outputs": [
    {
     "name": "stdout",
     "output_type": "stream",
     "text": [
      "['A' 'C' 'E' 'G' 'I']\n"
     ]
    }
   ],
   "source": [
    "print(result)"
   ]
  }
 ],
 "metadata": {
  "kernelspec": {
   "display_name": "Python 3 (ipykernel)",
   "language": "python",
   "name": "python3"
  },
  "language_info": {
   "codemirror_mode": {
    "name": "ipython",
    "version": 3
   },
   "file_extension": ".py",
   "mimetype": "text/x-python",
   "name": "python",
   "nbconvert_exporter": "python",
   "pygments_lexer": "ipython3",
   "version": "3.11.5"
  },
  "toc": {
   "base_numbering": 1,
   "nav_menu": {},
   "number_sections": true,
   "sideBar": true,
   "skip_h1_title": false,
   "title_cell": "Table of Contents",
   "title_sidebar": "Contents",
   "toc_cell": false,
   "toc_position": {},
   "toc_section_display": true,
   "toc_window_display": false
  },
  "vscode": {
   "interpreter": {
    "hash": "31f2aee4e71d21fbe5cf8b01ff0e069b9275f58929596ceb00d14d90e3e16cd6"
   }
  }
 },
 "nbformat": 4,
 "nbformat_minor": 5
}
