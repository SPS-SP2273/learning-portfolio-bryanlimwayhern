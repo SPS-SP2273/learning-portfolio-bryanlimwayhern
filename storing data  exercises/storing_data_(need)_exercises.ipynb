{
 "cells": [
  {
   "cell_type": "markdown",
   "id": "123456",
   "metadata": {},
   "source": [
    "<div style=\"text-align:left;font-size:2em\"><span style=\"font-weight:bolder;font-size:1.25em\">SP2273 | Learning Portfolio</span><br><br><span style=\"font-weight:bold;color:darkred\">Storing Data (Need) Exercises</span></div>"
   ]
  },
  {
   "cell_type": "markdown",
   "id": "ca9596a5",
   "metadata": {},
   "source": [
    "## Exercise 1\n",
    "\n",
    "#### Two similarities between Lists and Arrays\n",
    "\n",
    "- *Both lists and arrays are mutable sequences in Python, which means you can modify their elements after creation. Elements can be added, removed, or modified within the sequence.*\n",
    "- *Lists and arrays support indexing and slicing operations. You can access individual elements by their index and create sublists or subarrays using slicing notation. The syntax for these operations is similar for both data structures.*\n",
    "\n",
    "#### Two differences between Lists and Arrays\n",
    "\n",
    "- Lists in Python can contain elements of **different data types**. Each element can be of a different type, making lists heterogeneous. On the other hand, arrays, particularly NumPy arrays, are designed to be homogeneous, meaning **all elements must be of the same data type**. This homogeneity allows for more efficient memory storage and manipulation.\n",
    "- Arrays, especially NumPy arrays, are optimized for numerical operations and are more efficient for mathematical computations compared to lists. NumPy arrays can take advantage of vectorized operations, which perform operations on entire arrays at once, leading to better performance. Lists, being more general-purpose, may not exhibit the same level of performance for numerical computations.\n",
    "\n",
    "#### What is a dictionary? \n",
    "\n",
    "- A dictionary is a built-in data type that represents an unordered collection of key-value pairs. It is also known as an associative array or hash map in other programming languages. Dictionaries in Python are defined by curly braces {}, and each key-value pair is separated by a colon (:)."
   ]
  },
  {
   "cell_type": "markdown",
   "id": "19555b3e",
   "metadata": {},
   "source": [
    "## Exercise 2\n",
    "\n",
    "Modify the following code to print out all elements with an odd number. I have done the one corresponding to i9 for you."
   ]
  },
  {
   "cell_type": "code",
   "execution_count": 2,
   "id": "dba6844d",
   "metadata": {},
   "outputs": [
    {
     "name": "stdout",
     "output_type": "stream",
     "text": [
      "a1\n",
      "c3\n",
      "e5\n",
      "g7\n",
      "i9\n"
     ]
    }
   ],
   "source": [
    "py_list = [\"a1\", \"b2\", \"c3\", \"d4\", \"e5\", \"f6\", \"g7\", \"h8\", \"i9\", \"j10\"]\n",
    "print(py_list[0])   # Prints 'a1'\n",
    "print(py_list[2])   # Prints 'c3'\n",
    "print(py_list[4])   # Prints 'e5'\n",
    "print(py_list[6])   # Prints 'g7'\n",
    "print(py_list[8])   # Prints 'i9'"
   ]
  },
  {
   "cell_type": "markdown",
   "id": "3d5df7c7",
   "metadata": {},
   "source": [
    "## Exercise 3\n",
    "\n",
    "Given the following list in Python:"
   ]
  },
  {
   "cell_type": "code",
   "execution_count": 1,
   "id": "2d929100",
   "metadata": {},
   "outputs": [],
   "source": [
    "elements = ['Hydrogen',\n",
    "            'Helium', 'Lithium',\n",
    "            'Beryllium', 'Boron', 'Carbon',\n",
    "            'Nitrogen', 'Oxygen',\n",
    "            'Fluorine',\n",
    "            'Neon']"
   ]
  },
  {
   "cell_type": "markdown",
   "id": "7623a24a",
   "metadata": {},
   "source": [
    "1. Access and print the element at index 4 using forward indexing.\n",
    "2. Access and print the element at index 4 from the end of the list using reverse indexing."
   ]
  },
  {
   "cell_type": "code",
   "execution_count": 2,
   "id": "69173682",
   "metadata": {},
   "outputs": [
    {
     "name": "stdout",
     "output_type": "stream",
     "text": [
      "Boron\n"
     ]
    }
   ],
   "source": [
    "print(elements[4])"
   ]
  },
  {
   "cell_type": "code",
   "execution_count": 3,
   "id": "5767ba65",
   "metadata": {},
   "outputs": [
    {
     "name": "stdout",
     "output_type": "stream",
     "text": [
      "Boron\n"
     ]
    }
   ],
   "source": [
    "print(elements[-6])"
   ]
  },
  {
   "cell_type": "markdown",
   "id": "1a0d0a19",
   "metadata": {},
   "source": [
    "## Exercise 4\n",
    "\n",
    "Use the concepts you learned in this chapter to determine the number of 1’s in the following list of numbers."
   ]
  },
  {
   "cell_type": "code",
   "execution_count": 4,
   "id": "496d43bc",
   "metadata": {},
   "outputs": [],
   "source": [
    "numbers=[45, 60, 1, 30, 96, 1, 96, 57, 16, 1,\n",
    "        99, 62, 86, 43, 42, 60, 59, 1, 1, 35,\n",
    "        83, 47, 34, 28, 68, 23, 22, 92, 1, 79,\n",
    "        1, 29, 94, 72, 46, 47, 1, 74, 32, 20,\n",
    "        8, 37, 35, 1, 89, 29, 86, 19, 43, 61]                 "
   ]
  },
  {
   "cell_type": "code",
   "execution_count": 3,
   "id": "4111edc5",
   "metadata": {},
   "outputs": [],
   "source": [
    "import numpy as np"
   ]
  },
  {
   "cell_type": "code",
   "execution_count": 5,
   "id": "79e54715",
   "metadata": {},
   "outputs": [],
   "source": [
    "np_array = np.array(numbers)"
   ]
  },
  {
   "cell_type": "code",
   "execution_count": 6,
   "id": "d492e4ea",
   "metadata": {},
   "outputs": [
    {
     "data": {
      "text/plain": [
       "array([False, False,  True, False, False,  True, False, False, False,\n",
       "        True, False, False, False, False, False, False, False,  True,\n",
       "        True, False, False, False, False, False, False, False, False,\n",
       "       False,  True, False,  True, False, False, False, False, False,\n",
       "        True, False, False, False, False, False, False,  True, False,\n",
       "       False, False, False, False, False])"
      ]
     },
     "execution_count": 6,
     "metadata": {},
     "output_type": "execute_result"
    }
   ],
   "source": [
    "np_array == 1"
   ]
  },
  {
   "cell_type": "code",
   "execution_count": 8,
   "id": "4ce8b482",
   "metadata": {},
   "outputs": [],
   "source": [
    "number_of_ones = np.sum(np_array == 1)"
   ]
  },
  {
   "cell_type": "code",
   "execution_count": 9,
   "id": "07567ff3",
   "metadata": {},
   "outputs": [
    {
     "name": "stdout",
     "output_type": "stream",
     "text": [
      "Number of 1's in the list: 9\n"
     ]
    }
   ],
   "source": [
    "print(\"Number of 1's in the list:\", number_of_ones)"
   ]
  }
 ],
 "metadata": {
  "kernelspec": {
   "display_name": "Python 3 (ipykernel)",
   "language": "python",
   "name": "python3"
  },
  "language_info": {
   "codemirror_mode": {
    "name": "ipython",
    "version": 3
   },
   "file_extension": ".py",
   "mimetype": "text/x-python",
   "name": "python",
   "nbconvert_exporter": "python",
   "pygments_lexer": "ipython3",
   "version": "3.11.5"
  },
  "toc": {
   "base_numbering": 1,
   "nav_menu": {},
   "number_sections": true,
   "sideBar": true,
   "skip_h1_title": false,
   "title_cell": "Table of Contents",
   "title_sidebar": "Contents",
   "toc_cell": false,
   "toc_position": {},
   "toc_section_display": true,
   "toc_window_display": false
  },
  "vscode": {
   "interpreter": {
    "hash": "31f2aee4e71d21fbe5cf8b01ff0e069b9275f58929596ceb00d14d90e3e16cd6"
   }
  }
 },
 "nbformat": 4,
 "nbformat_minor": 5
}
