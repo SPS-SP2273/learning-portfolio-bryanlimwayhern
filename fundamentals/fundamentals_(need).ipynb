{
 "cells": [
  {
   "cell_type": "markdown",
   "id": "123456",
   "metadata": {},
   "source": [
    "<div style=\"text-align:left;font-size:2em\"><span style=\"font-weight:bolder;font-size:1.25em\">SP2273 | Learning Portfolio</span><br><br><span style=\"font-weight:bold;color:darkred\">Fundamentals (Need)</span></div>"
   ]
  },
  {
   "cell_type": "markdown",
   "id": "b538cee4",
   "metadata": {},
   "source": [
    "# What to expect in this chapter"
   ]
  },
  {
   "cell_type": "markdown",
   "id": "42f564e1",
   "metadata": {},
   "source": [
    "# 1 Functions"
   ]
  },
  {
   "cell_type": "code",
   "execution_count": 1,
   "id": "c7aee4ff",
   "metadata": {},
   "outputs": [
    {
     "name": "stdout",
     "output_type": "stream",
     "text": [
      "hello world\n"
     ]
    }
   ],
   "source": [
    "print('hello world')"
   ]
  },
  {
   "cell_type": "markdown",
   "id": "23537180",
   "metadata": {},
   "source": [
    "- print() is a function.\n",
    "\n",
    "- Parentheses, (), always follow a function.\n",
    "Parentheses are left empty for those functions that don’t require an argument (e.g. exit())\n",
    "\n",
    "- The above is an example of what we call code; instructions written using a syntax that a programming language understands."
   ]
  },
  {
   "cell_type": "markdown",
   "id": "dc9f0a14",
   "metadata": {},
   "source": [
    "# 2 Remember"
   ]
  },
  {
   "cell_type": "markdown",
   "id": "3f7df1ef",
   "metadata": {},
   "source": [
    "- A function is ‘something’ that executes a specific task.\n",
    "- A function may or may not accept arguments.\n",
    "- We can define our own functions."
   ]
  },
  {
   "cell_type": "markdown",
   "id": "50dda1a3",
   "metadata": {},
   "source": [
    "# 3 Python is interpreted"
   ]
  },
  {
   "cell_type": "markdown",
   "id": "49c66dd4",
   "metadata": {},
   "source": [
    "An interpreter works sequentially, one command at a time. So, for example, the following has two commands."
   ]
  },
  {
   "cell_type": "code",
   "execution_count": 2,
   "id": "f32a498a",
   "metadata": {},
   "outputs": [
    {
     "name": "stdout",
     "output_type": "stream",
     "text": [
      "Hello World\n",
      "Hello World again\n"
     ]
    }
   ],
   "source": [
    "print('Hello World')\n",
    "print('Hello World again')"
   ]
  },
  {
   "cell_type": "markdown",
   "id": "e117933b",
   "metadata": {},
   "source": [
    "The interpreter stops and complains if there is an error in the command it is currently executing."
   ]
  },
  {
   "cell_type": "markdown",
   "id": "6362ed8e",
   "metadata": {},
   "source": [
    "# 4 Python is sensitive."
   ]
  },
  {
   "cell_type": "markdown",
   "id": "dce2567d",
   "metadata": {},
   "source": [
    "Python is case-sensitive, so Print() is different from print()."
   ]
  },
  {
   "cell_type": "code",
   "execution_count": 1,
   "id": "b2c6f335",
   "metadata": {},
   "outputs": [
    {
     "name": "stdout",
     "output_type": "stream",
     "text": [
      "Hello World\n"
     ]
    },
    {
     "ename": "NameError",
     "evalue": "name 'Print' is not defined",
     "output_type": "error",
     "traceback": [
      "\u001b[1;31m---------------------------------------------------------------------------\u001b[0m",
      "\u001b[1;31mNameError\u001b[0m                                 Traceback (most recent call last)",
      "Cell \u001b[1;32mIn[1], line 3\u001b[0m\n\u001b[0;32m      1\u001b[0m \u001b[38;5;28mprint\u001b[39m(\u001b[38;5;124m'\u001b[39m\u001b[38;5;124mHello World\u001b[39m\u001b[38;5;124m'\u001b[39m)      \u001b[38;5;66;03m# This WILL work\u001b[39;00m\n\u001b[1;32m----> 3\u001b[0m Print(\u001b[38;5;124m'\u001b[39m\u001b[38;5;124mHello World\u001b[39m\u001b[38;5;124m'\u001b[39m)\n",
      "\u001b[1;31mNameError\u001b[0m: name 'Print' is not defined"
     ]
    }
   ],
   "source": [
    "print('Hello World')      # This WILL work\n",
    "\n",
    "Print('Hello World')      # This will NOT work"
   ]
  },
  {
   "cell_type": "markdown",
   "id": "1e6e0d2e",
   "metadata": {},
   "source": [
    "# 5 Remember"
   ]
  },
  {
   "cell_type": "markdown",
   "id": "ac2e3d72",
   "metadata": {},
   "source": [
    "Python is case-sensitive."
   ]
  },
  {
   "cell_type": "markdown",
   "id": "5b85c048",
   "metadata": {},
   "source": [
    "# 6 Comments"
   ]
  },
  {
   "cell_type": "markdown",
   "id": "6ba83884",
   "metadata": {},
   "source": [
    "- Python ignores all comments.\n",
    "- Anything between the # and the end of the line constitutes the comment."
   ]
  },
  {
   "cell_type": "markdown",
   "id": "e5931408",
   "metadata": {},
   "source": [
    "It is important to note that comments are for you and me (i.e., humans). However, you must use them carefully; unnecessary comments create clutter and hinder code readability. For instance, the following comment is redundant.\n",
    "\n",
    "print(\"Hello world\" )     # Printing \"Hello World.\""
   ]
  },
  {
   "cell_type": "markdown",
   "id": "3c6d6009",
   "metadata": {},
   "source": [
    "# 7 Remember"
   ]
  },
  {
   "cell_type": "markdown",
   "id": "e1fb0f13",
   "metadata": {},
   "source": [
    "Use comments to emphasize the purpose of the code."
   ]
  },
  {
   "cell_type": "markdown",
   "id": "fe4ac7f1",
   "metadata": {},
   "source": [
    "# 8 = is not the same as =="
   ]
  },
  {
   "cell_type": "markdown",
   "id": "103d8cc0",
   "metadata": {},
   "source": [
    "= and == are two different things\n",
    "\n",
    "- = is to set something equal \n",
    "- == is to check if something is equal \n",
    "\n",
    "name = 'Batman'   # Make name carry 'Batman'\n",
    "\n",
    "name == 'Batman'  # Tell me if name is equal to 'Batman'?\n",
    "                  # Answer:  True or False"
   ]
  },
  {
   "cell_type": "markdown",
   "id": "3aff07eb",
   "metadata": {},
   "source": [
    "# 9 Remember"
   ]
  },
  {
   "cell_type": "markdown",
   "id": "76311d4b",
   "metadata": {},
   "source": [
    "- = is not the same as ==.\n",
    "- = assigns a value and\n",
    "- == asks a question."
   ]
  },
  {
   "cell_type": "markdown",
   "id": "c08b313c",
   "metadata": {},
   "source": [
    "# 10 Use if to make decisions"
   ]
  },
  {
   "cell_type": "markdown",
   "id": "955d1c8f",
   "metadata": {},
   "source": [
    "if can be used to branch the flow of the program"
   ]
  },
  {
   "cell_type": "code",
   "execution_count": 7,
   "id": "db0c3215",
   "metadata": {},
   "outputs": [
    {
     "name": "stdout",
     "output_type": "stream",
     "text": [
      "Hello Batman!\n"
     ]
    }
   ],
   "source": [
    "name = 'Batman'\n",
    "\n",
    "if name == 'Batman':\n",
    "    print('Hello Batman!')\n",
    "else:\n",
    "    print('Hello World!')\n",
    "    "
   ]
  },
  {
   "cell_type": "code",
   "execution_count": 8,
   "id": "f40beefa",
   "metadata": {},
   "outputs": [
    {
     "name": "stdout",
     "output_type": "stream",
     "text": [
      "Hello World!\n"
     ]
    }
   ],
   "source": [
    "name = 'Eric'\n",
    "\n",
    "if name == 'Batman':\n",
    "    print('Hello Batman!')\n",
    "else:\n",
    "    print('Hello World!')"
   ]
  },
  {
   "cell_type": "markdown",
   "id": "00861872",
   "metadata": {},
   "source": [
    "# 11 Remember"
   ]
  },
  {
   "cell_type": "markdown",
   "id": "28f2fed0",
   "metadata": {},
   "source": [
    "You can use if to make decisions."
   ]
  },
  {
   "cell_type": "markdown",
   "id": "14e3cb82",
   "metadata": {},
   "source": [
    "# 12 Indentations (spaces) are sooo IMPORTANT!"
   ]
  },
  {
   "cell_type": "markdown",
   "id": "5d9ad5b9",
   "metadata": {},
   "source": [
    "With Python, this code will work:"
   ]
  },
  {
   "cell_type": "code",
   "execution_count": 9,
   "id": "bf3227d7",
   "metadata": {},
   "outputs": [
    {
     "name": "stdout",
     "output_type": "stream",
     "text": [
      "10\n"
     ]
    }
   ],
   "source": [
    "x = 10\n",
    "print(x)"
   ]
  },
  {
   "cell_type": "markdown",
   "id": "bfcb32e2",
   "metadata": {},
   "source": [
    "However, the following will not work:"
   ]
  },
  {
   "cell_type": "code",
   "execution_count": 10,
   "id": "7fd6426b",
   "metadata": {},
   "outputs": [
    {
     "ename": "IndentationError",
     "evalue": "unexpected indent (1537435392.py, line 2)",
     "output_type": "error",
     "traceback": [
      "\u001b[1;36m  Cell \u001b[1;32mIn[10], line 2\u001b[1;36m\u001b[0m\n\u001b[1;33m    print(x)\u001b[0m\n\u001b[1;37m    ^\u001b[0m\n\u001b[1;31mIndentationError\u001b[0m\u001b[1;31m:\u001b[0m unexpected indent\n"
     ]
    }
   ],
   "source": [
    "x = 10\n",
    " print(x)"
   ]
  },
  {
   "cell_type": "markdown",
   "id": "ff6961fa",
   "metadata": {},
   "source": [
    "Notice that Python uses an indentation to separate the True and False ‘blocks’. So you cannot use indentations (spaces) indiscriminately as this will confuse Python."
   ]
  },
  {
   "cell_type": "markdown",
   "id": "f20e5be7",
   "metadata": {},
   "source": [
    "# 13 Remember"
   ]
  },
  {
   "cell_type": "markdown",
   "id": "379f824f",
   "metadata": {},
   "source": [
    "- Indentations play a crucial role in Python; do not use them indiscriminately.\n",
    "- : is used to designate a block of code."
   ]
  },
  {
   "cell_type": "markdown",
   "id": "14fd4086",
   "metadata": {},
   "source": [
    "# 14 ‘age’ is English, age is a variable."
   ]
  },
  {
   "cell_type": "markdown",
   "id": "d48d0ce4",
   "metadata": {},
   "source": [
    "Variables are ‘things’ that can hold information. You can give almost2 any name for a variable. However, it is best to provide a name that describes the data it ‘carries’.\n",
    "For example, we can store a student’s age using the variable a = 24. However, it is better to write age = 24. It is even better to write student_age = 24."
   ]
  },
  {
   "cell_type": "markdown",
   "id": "a3b2a441",
   "metadata": {},
   "source": [
    "print(age)       # Print the value of the variable age\n",
    "\n",
    "print(\"age\")     # Print the English word 'age'"
   ]
  },
  {
   "cell_type": "markdown",
   "id": "9ca99804",
   "metadata": {},
   "source": [
    "To get it to work, we need to do something like:"
   ]
  },
  {
   "cell_type": "code",
   "execution_count": 11,
   "id": "5ab71fd3",
   "metadata": {},
   "outputs": [
    {
     "name": "stdout",
     "output_type": "stream",
     "text": [
      "10\n"
     ]
    }
   ],
   "source": [
    "age = 10\n",
    "print(age)"
   ]
  },
  {
   "cell_type": "markdown",
   "id": "f15a68ce",
   "metadata": {},
   "source": [
    "Note that you can use either matching pairs of ' ' or \" \". However, it is always good to be consistent. Sometimes, it is good to have both because you need to do things like:"
   ]
  },
  {
   "cell_type": "code",
   "execution_count": 12,
   "id": "afdbe3fa",
   "metadata": {},
   "outputs": [
    {
     "name": "stdout",
     "output_type": "stream",
     "text": [
      "You're twenty years old.\n"
     ]
    }
   ],
   "source": [
    "print(\"You're twenty years old.\")"
   ]
  },
  {
   "cell_type": "markdown",
   "id": "9a1c0129",
   "metadata": {},
   "source": [
    "# 15 Brackets"
   ]
  },
  {
   "cell_type": "markdown",
   "id": "42b3ca85",
   "metadata": {},
   "source": [
    "Python uses all three types of brackets ( ), [ ] and { }"
   ]
  },
  {
   "cell_type": "code",
   "execution_count": 13,
   "id": "8c42bc09",
   "metadata": {},
   "outputs": [
    {
     "name": "stdout",
     "output_type": "stream",
     "text": [
      "Hello!\n"
     ]
    }
   ],
   "source": [
    "print('Hello!')             # For functions"
   ]
  },
  {
   "cell_type": "markdown",
   "id": "fbfb3b24",
   "metadata": {},
   "source": [
    "`(1 + 2) * 5`                 # For math"
   ]
  },
  {
   "cell_type": "code",
   "execution_count": 15,
   "id": "4f8f4d52",
   "metadata": {},
   "outputs": [],
   "source": [
    "py_list = [1, 2, 3, 4, 5]   # A 1D list\n",
    "\n",
    "py_list_2 = [               # A 2D list\n",
    "                [1, \"A\"],      \n",
    "                [2, \"B\"],\n",
    "                [3, \"C\"],\n",
    "                [4, \"D\"],\n",
    "                [5, \"E\"]\n",
    "            ]"
   ]
  },
  {
   "cell_type": "markdown",
   "id": "c38ed095",
   "metadata": {},
   "source": [
    "Python uses { } to store data in a ‘thing’ called a dictionary.\n",
    "Here is an example:"
   ]
  },
  {
   "cell_type": "code",
   "execution_count": 16,
   "id": "e422b983",
   "metadata": {},
   "outputs": [],
   "source": [
    "personal_info = {\n",
    "    'Names': 'Batman',\n",
    "    'Real Name': 'Bruce Wayne',\n",
    "    'Age': 55,\n",
    "    'Affiliation': 'Justice League',\n",
    "    'Universe': 'DC'\n",
    "}"
   ]
  },
  {
   "cell_type": "markdown",
   "id": "9334f9c3",
   "metadata": {},
   "source": [
    "The dictionary uses a key to identify a value (e.g., ‘Real Name’ \n",
    " ‘Bruce Wayne’). This is a neat (and super useful) way to store data and quickly access information; for example:"
   ]
  },
  {
   "cell_type": "code",
   "execution_count": 17,
   "id": "00242725",
   "metadata": {},
   "outputs": [
    {
     "name": "stdout",
     "output_type": "stream",
     "text": [
      "Bruce Wayne\n"
     ]
    }
   ],
   "source": [
    "print(personal_info['Real Name'])    "
   ]
  },
  {
   "cell_type": "markdown",
   "id": "abe3ad3f",
   "metadata": {},
   "source": [
    "- Notice () used to call out a function that is to state the personal info\n",
    "- Notice [] used to include the data set "
   ]
  },
  {
   "cell_type": "code",
   "execution_count": 20,
   "id": "b4a9a9e8",
   "metadata": {},
   "outputs": [
    {
     "name": "stdout",
     "output_type": "stream",
     "text": [
      "Batman\n"
     ]
    }
   ],
   "source": [
    "print(personal_info['Names'])"
   ]
  },
  {
   "cell_type": "markdown",
   "id": "22adab58",
   "metadata": {},
   "source": [
    "# 16 Giving Python superpowers with Packages"
   ]
  },
  {
   "cell_type": "markdown",
   "id": "7085d77f",
   "metadata": {},
   "source": [
    "## 16.1 Some Context"
   ]
  },
  {
   "cell_type": "markdown",
   "id": "4b69f145",
   "metadata": {},
   "source": [
    "I now like to talk about an essential, super-powerful feature of Python. For this, I will use the example of doing mathematics using Python. Let’s say we want to calculate:\n",
    "\n",
    "$$\n",
    "\\dfrac{1*((2-3)+4)^5}{6}\n",
    "$$"
   ]
  },
  {
   "cell_type": "code",
   "execution_count": 21,
   "id": "194bf370",
   "metadata": {},
   "outputs": [
    {
     "data": {
      "text/plain": [
       "40.5"
      ]
     },
     "execution_count": 21,
     "metadata": {},
     "output_type": "execute_result"
    }
   ],
   "source": [
    "1 * ((2 - 3) + 4) ** 5 / 6"
   ]
  },
  {
   "cell_type": "markdown",
   "id": "33ee9afa",
   "metadata": {},
   "source": [
    "How about $\\sqrt4$"
   ]
  },
  {
   "cell_type": "code",
   "execution_count": 22,
   "id": "1deadbc6",
   "metadata": {},
   "outputs": [
    {
     "ename": "NameError",
     "evalue": "name 'sqrt' is not defined",
     "output_type": "error",
     "traceback": [
      "\u001b[1;31m---------------------------------------------------------------------------\u001b[0m",
      "\u001b[1;31mNameError\u001b[0m                                 Traceback (most recent call last)",
      "Cell \u001b[1;32mIn[22], line 1\u001b[0m\n\u001b[1;32m----> 1\u001b[0m sqrt(\u001b[38;5;241m4\u001b[39m)\n",
      "\u001b[1;31mNameError\u001b[0m: name 'sqrt' is not defined"
     ]
    }
   ],
   "source": [
    "sqrt(4)      # Will NOT work because \n",
    "             # basic Python is limited"
   ]
  },
  {
   "cell_type": "markdown",
   "id": "0d5270dc",
   "metadata": {},
   "source": [
    "## 16.2 Importing the math package"
   ]
  },
  {
   "cell_type": "code",
   "execution_count": 23,
   "id": "ca391602",
   "metadata": {},
   "outputs": [],
   "source": [
    "import math         # Adding(importing) the functions\n",
    "                    # of the 'math' package    "
   ]
  },
  {
   "cell_type": "code",
   "execution_count": 24,
   "id": "cd5aa4e1",
   "metadata": {},
   "outputs": [
    {
     "data": {
      "text/plain": [
       "2.0"
      ]
     },
     "execution_count": 24,
     "metadata": {},
     "output_type": "execute_result"
    }
   ],
   "source": [
    "math.sqrt(4)"
   ]
  },
  {
   "cell_type": "markdown",
   "id": "509d7a66",
   "metadata": {},
   "source": [
    "## 16.3 Importing the numpy package"
   ]
  },
  {
   "cell_type": "markdown",
   "id": "9894f71c",
   "metadata": {},
   "source": [
    "math is one of many modules that offer the sqrt() functionality. So let me also import the super useful Numpy package to use its sqrt() function."
   ]
  },
  {
   "cell_type": "code",
   "execution_count": 8,
   "id": "bf945fc9",
   "metadata": {},
   "outputs": [
    {
     "ename": "ModuleNotFoundError",
     "evalue": "No module named 'numpy'",
     "output_type": "error",
     "traceback": [
      "\u001b[1;31m---------------------------------------------------------------------------\u001b[0m",
      "\u001b[1;31mModuleNotFoundError\u001b[0m                       Traceback (most recent call last)",
      "Cell \u001b[1;32mIn[8], line 1\u001b[0m\n\u001b[1;32m----> 1\u001b[0m \u001b[38;5;28;01mimport\u001b[39;00m \u001b[38;5;21;01mnumpy\u001b[39;00m \u001b[38;5;28;01mas\u001b[39;00m \u001b[38;5;21;01mnp\u001b[39;00m\n",
      "\u001b[1;31mModuleNotFoundError\u001b[0m: No module named 'numpy'"
     ]
    }
   ],
   "source": [
    "import numpy as np    # Importing Numpy and giving \n",
    "                      # it an alias np \n",
    "                      # because I am lazy"
   ]
  },
  {
   "cell_type": "code",
   "execution_count": 9,
   "id": "d94ef713",
   "metadata": {},
   "outputs": [
    {
     "name": "stdout",
     "output_type": "stream",
     "text": [
      "Collecting numpy\n",
      "  Downloading numpy-1.26.3-cp311-cp311-win_amd64.whl.metadata (61 kB)\n",
      "     ---------------------------------------- 0.0/61.2 kB ? eta -:--:--\n",
      "     ------ --------------------------------- 10.2/61.2 kB ? eta -:--:--\n",
      "     ------------------------------- ------ 51.2/61.2 kB 525.1 kB/s eta 0:00:01\n",
      "     -------------------------------------- 61.2/61.2 kB 467.6 kB/s eta 0:00:00\n",
      "Downloading numpy-1.26.3-cp311-cp311-win_amd64.whl (15.8 MB)\n",
      "   ---------------------------------------- 0.0/15.8 MB ? eta -:--:--\n",
      "   - -------------------------------------- 0.4/15.8 MB 8.3 MB/s eta 0:00:02\n",
      "   - -------------------------------------- 0.6/15.8 MB 8.1 MB/s eta 0:00:02\n",
      "   -- ------------------------------------- 1.0/15.8 MB 8.3 MB/s eta 0:00:02\n",
      "   ---- ----------------------------------- 1.6/15.8 MB 9.3 MB/s eta 0:00:02\n",
      "   ----- ---------------------------------- 2.0/15.8 MB 10.0 MB/s eta 0:00:02\n",
      "   ------ --------------------------------- 2.6/15.8 MB 9.8 MB/s eta 0:00:02\n",
      "   ------- -------------------------------- 3.1/15.8 MB 10.4 MB/s eta 0:00:02\n",
      "   --------- ------------------------------ 3.7/15.8 MB 10.7 MB/s eta 0:00:02\n",
      "   ---------- ----------------------------- 4.2/15.8 MB 10.7 MB/s eta 0:00:02\n",
      "   ----------- ---------------------------- 4.7/15.8 MB 11.0 MB/s eta 0:00:02\n",
      "   ------------- -------------------------- 5.3/15.8 MB 10.9 MB/s eta 0:00:01\n",
      "   -------------- ------------------------- 5.9/15.8 MB 10.8 MB/s eta 0:00:01\n",
      "   ---------------- ----------------------- 6.4/15.8 MB 11.1 MB/s eta 0:00:01\n",
      "   ----------------- ---------------------- 7.0/15.8 MB 11.1 MB/s eta 0:00:01\n",
      "   ------------------- -------------------- 7.5/15.8 MB 11.5 MB/s eta 0:00:01\n",
      "   -------------------- ------------------- 8.0/15.8 MB 11.4 MB/s eta 0:00:01\n",
      "   --------------------- ------------------ 8.6/15.8 MB 11.4 MB/s eta 0:00:01\n",
      "   ----------------------- ---------------- 9.2/15.8 MB 11.6 MB/s eta 0:00:01\n",
      "   ------------------------ --------------- 9.9/15.8 MB 11.7 MB/s eta 0:00:01\n",
      "   -------------------------- ------------- 10.6/15.8 MB 11.7 MB/s eta 0:00:01\n",
      "   ----------------------------- ---------- 11.7/15.8 MB 11.9 MB/s eta 0:00:01\n",
      "   ------------------------------ --------- 12.2/15.8 MB 12.1 MB/s eta 0:00:01\n",
      "   -------------------------------- ------- 12.8/15.8 MB 12.4 MB/s eta 0:00:01\n",
      "   --------------------------------- ------ 13.4/15.8 MB 12.4 MB/s eta 0:00:01\n",
      "   ----------------------------------- ---- 14.2/15.8 MB 12.4 MB/s eta 0:00:01\n",
      "   ---------------------------------------  15.4/15.8 MB 12.6 MB/s eta 0:00:01\n",
      "   ---------------------------------------  15.8/15.8 MB 12.6 MB/s eta 0:00:01\n",
      "   ---------------------------------------- 15.8/15.8 MB 11.9 MB/s eta 0:00:00\n",
      "Installing collected packages: numpy\n",
      "Successfully installed numpy-1.26.3\n"
     ]
    },
    {
     "name": "stderr",
     "output_type": "stream",
     "text": [
      "WARNING: Skipping C:\\Users\\B R Y A N\\miniconda3\\Lib\\site-packages\\fqdn-1.5.1.dist-info due to invalid metadata entry 'name'\n",
      "WARNING: Skipping C:\\Users\\B R Y A N\\miniconda3\\Lib\\site-packages\\pywinpty-2.0.12.dist-info due to invalid metadata entry 'name'\n",
      "WARNING: Skipping C:\\Users\\B R Y A N\\miniconda3\\Lib\\site-packages\\pyzmq-25.1.2.dist-info due to invalid metadata entry 'name'\n",
      "WARNING: Skipping C:\\Users\\B R Y A N\\miniconda3\\Lib\\site-packages\\fqdn-1.5.1.dist-info due to invalid metadata entry 'name'\n",
      "WARNING: Skipping C:\\Users\\B R Y A N\\miniconda3\\Lib\\site-packages\\pywinpty-2.0.12.dist-info due to invalid metadata entry 'name'\n",
      "WARNING: Skipping C:\\Users\\B R Y A N\\miniconda3\\Lib\\site-packages\\pyzmq-25.1.2.dist-info due to invalid metadata entry 'name'\n",
      "WARNING: Skipping C:\\Users\\B R Y A N\\miniconda3\\Lib\\site-packages\\webencodings-0.5.1.dist-info due to invalid metadata entry 'name'\n",
      "WARNING: Skipping C:\\Users\\B R Y A N\\miniconda3\\Lib\\site-packages\\fqdn-1.5.1.dist-info due to invalid metadata entry 'name'\n",
      "WARNING: Skipping C:\\Users\\B R Y A N\\miniconda3\\Lib\\site-packages\\pywinpty-2.0.12.dist-info due to invalid metadata entry 'name'\n",
      "WARNING: Skipping C:\\Users\\B R Y A N\\miniconda3\\Lib\\site-packages\\pyzmq-25.1.2.dist-info due to invalid metadata entry 'name'\n",
      "WARNING: Skipping C:\\Users\\B R Y A N\\miniconda3\\Lib\\site-packages\\webencodings-0.5.1.dist-info due to invalid metadata entry 'name'\n",
      "WARNING: Skipping C:\\Users\\B R Y A N\\miniconda3\\Lib\\site-packages\\fqdn-1.5.1.dist-info due to invalid metadata entry 'name'\n",
      "WARNING: Skipping C:\\Users\\B R Y A N\\miniconda3\\Lib\\site-packages\\fqdn-1.5.1.dist-info due to invalid metadata entry 'name'\n",
      "WARNING: Skipping C:\\Users\\B R Y A N\\miniconda3\\Lib\\site-packages\\pywinpty-2.0.12.dist-info due to invalid metadata entry 'name'\n",
      "WARNING: Skipping C:\\Users\\B R Y A N\\miniconda3\\Lib\\site-packages\\pyzmq-25.1.2.dist-info due to invalid metadata entry 'name'\n",
      "WARNING: Skipping C:\\Users\\B R Y A N\\miniconda3\\Lib\\site-packages\\fqdn-1.5.1.dist-info due to invalid metadata entry 'name'\n",
      "WARNING: Skipping C:\\Users\\B R Y A N\\miniconda3\\Lib\\site-packages\\fqdn-1.5.1.dist-info due to invalid metadata entry 'name'\n"
     ]
    }
   ],
   "source": [
    "!pip install numpy"
   ]
  },
  {
   "cell_type": "code",
   "execution_count": 1,
   "id": "651f8a88",
   "metadata": {},
   "outputs": [],
   "source": [
    "import numpy as np"
   ]
  },
  {
   "cell_type": "markdown",
   "id": "3c5b54cb",
   "metadata": {},
   "source": [
    "Since I imported it with an alias (np) I can be lazy and use np instead of the longer numpy."
   ]
  },
  {
   "cell_type": "code",
   "execution_count": 2,
   "id": "5e49bf8a",
   "metadata": {},
   "outputs": [
    {
     "data": {
      "text/plain": [
       "2.0"
      ]
     },
     "execution_count": 2,
     "metadata": {},
     "output_type": "execute_result"
    }
   ],
   "source": [
    "np.sqrt(4)"
   ]
  },
  {
   "cell_type": "markdown",
   "id": "ef323a79",
   "metadata": {},
   "source": [
    "## 16.4 Why so many packages?"
   ]
  },
  {
   "cell_type": "markdown",
   "id": "60cd3f69",
   "metadata": {},
   "source": [
    "You might wonder why we need multiple sqrt() functions. There are different versions because they have different capabilities and efficiencies. For example, the Numpy version can handle a list of numbers:"
   ]
  },
  {
   "cell_type": "code",
   "execution_count": 3,
   "id": "9feee03f",
   "metadata": {},
   "outputs": [
    {
     "data": {
      "text/plain": [
       "array([2., 3., 4.])"
      ]
     },
     "execution_count": 3,
     "metadata": {},
     "output_type": "execute_result"
    }
   ],
   "source": [
    "np.sqrt([4, 9, 16])"
   ]
  },
  {
   "cell_type": "markdown",
   "id": "e8de4c61",
   "metadata": {},
   "source": [
    "Note that you need to import packages only once(You do not have to teach Python the same thing twice!). Python will remember the functions until you restart the Python interpreter."
   ]
  },
  {
   "cell_type": "markdown",
   "id": "83ee72e2",
   "metadata": {},
   "source": [
    "# 17 Remember"
   ]
  },
  {
   "cell_type": "markdown",
   "id": "5715848a",
   "metadata": {},
   "source": [
    "- You can give Python ‘superpowers’ by importing packages.\n",
    "- You must import a package only once.\n",
    "- There are different ways to import packages (e.g. with or without an ‘alias’)."
   ]
  },
  {
   "cell_type": "markdown",
   "id": "4734a4e3",
   "metadata": {},
   "source": [
    "# 18 The dot (.)"
   ]
  },
  {
   "cell_type": "markdown",
   "id": "b2fc2d3f",
   "metadata": {},
   "source": [
    "This dot is used to indicate ownership! To see how this works, consider the code below."
   ]
  },
  {
   "cell_type": "code",
   "execution_count": 5,
   "id": "c1b10728",
   "metadata": {},
   "outputs": [],
   "source": [
    "import math"
   ]
  },
  {
   "cell_type": "code",
   "execution_count": 6,
   "id": "141fe1d1",
   "metadata": {},
   "outputs": [
    {
     "data": {
      "text/plain": [
       "2.0"
      ]
     },
     "execution_count": 6,
     "metadata": {},
     "output_type": "execute_result"
    }
   ],
   "source": [
    "math.sqrt(4)\n",
    "np.sqrt(4)"
   ]
  },
  {
   "cell_type": "markdown",
   "id": "338e3ef6",
   "metadata": {},
   "source": [
    "In the first line, we use the sqrt() function that belongs to the math module. In the second line, we use the sqrt() function that belongs to NumPy."
   ]
  },
  {
   "cell_type": "markdown",
   "id": "f7a6229e",
   "metadata": {},
   "source": [
    "Everything in Python (e.g., numbers, letters) has functions and attributes that belong to them. We can access them using the dot. For example, the following will split the sentence into words."
   ]
  },
  {
   "cell_type": "code",
   "execution_count": 7,
   "id": "6997c3bf",
   "metadata": {},
   "outputs": [
    {
     "data": {
      "text/plain": [
       "['I', 'am', 'Batman']"
      ]
     },
     "execution_count": 7,
     "metadata": {},
     "output_type": "execute_result"
    }
   ],
   "source": [
    "\"I am Batman\".split()"
   ]
  },
  {
   "cell_type": "markdown",
   "id": "7a3b9497",
   "metadata": {},
   "source": [
    "However, the following will not work because having a split() function for numbers makes no sense."
   ]
  },
  {
   "cell_type": "code",
   "execution_count": 8,
   "id": "89563719",
   "metadata": {},
   "outputs": [
    {
     "ename": "SyntaxError",
     "evalue": "invalid decimal literal (3897031440.py, line 1)",
     "output_type": "error",
     "traceback": [
      "\u001b[1;36m  Cell \u001b[1;32mIn[8], line 1\u001b[1;36m\u001b[0m\n\u001b[1;33m    1234.split()\u001b[0m\n\u001b[1;37m        ^\u001b[0m\n\u001b[1;31mSyntaxError\u001b[0m\u001b[1;31m:\u001b[0m invalid decimal literal\n"
     ]
    }
   ],
   "source": [
    "1234.split()"
   ]
  },
  {
   "cell_type": "markdown",
   "id": "7d0efcef",
   "metadata": {},
   "source": [
    "The things that can be accessed using the dot depend on what the dot is attached to. "
   ]
  },
  {
   "cell_type": "markdown",
   "id": "ca7e078c",
   "metadata": {},
   "source": [
    "# 19 Remember"
   ]
  },
  {
   "cell_type": "markdown",
   "id": "b9b505fb",
   "metadata": {},
   "source": [
    "The dot(.) indicates ownership, and what it can access depends on the context."
   ]
  },
  {
   "cell_type": "markdown",
   "id": "6bf24bfd",
   "metadata": {},
   "source": [
    "## Footnotes"
   ]
  },
  {
   "cell_type": "markdown",
   "id": "0d6676d4",
   "metadata": {},
   "source": [
    "The latest version of the interpreter is 3.12.↩︎\n",
    "\n",
    "Except the keywords used in the Python language like if, for, while, is [^footnote]"
   ]
  }
 ],
 "metadata": {
  "kernelspec": {
   "display_name": "Python 3 (ipykernel)",
   "language": "python",
   "name": "python3"
  },
  "language_info": {
   "codemirror_mode": {
    "name": "ipython",
    "version": 3
   },
   "file_extension": ".py",
   "mimetype": "text/x-python",
   "name": "python",
   "nbconvert_exporter": "python",
   "pygments_lexer": "ipython3",
   "version": "3.11.5"
  },
  "toc": {
   "base_numbering": 1,
   "nav_menu": {},
   "number_sections": true,
   "sideBar": true,
   "skip_h1_title": false,
   "title_cell": "Table of Contents",
   "title_sidebar": "Contents",
   "toc_cell": false,
   "toc_position": {},
   "toc_section_display": true,
   "toc_window_display": false
  },
  "vscode": {
   "interpreter": {
    "hash": "31f2aee4e71d21fbe5cf8b01ff0e069b9275f58929596ceb00d14d90e3e16cd6"
   }
  }
 },
 "nbformat": 4,
 "nbformat_minor": 5
}
