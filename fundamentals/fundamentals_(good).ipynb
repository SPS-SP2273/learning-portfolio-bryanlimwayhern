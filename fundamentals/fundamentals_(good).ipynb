{
 "cells": [
  {
   "cell_type": "markdown",
   "id": "123456",
   "metadata": {},
   "source": [
    "<div style=\"text-align:left;font-size:2em\"><span style=\"font-weight:bolder;font-size:1.25em\">SP2273 | Learning Portfolio</span><br><br><span style=\"font-weight:bold;color:darkred\">Fundamentals (Good)</span></div>"
   ]
  },
  {
   "cell_type": "markdown",
   "id": "3ecd291d",
   "metadata": {},
   "source": [
    "# What to expect in this chapter"
   ]
  },
  {
   "cell_type": "markdown",
   "id": "8b8d89cc",
   "metadata": {},
   "source": [
    "In the previous chapter, you learned some essential basics of Python. In this chapter, I will build on those earlier concepts to add more details to the same ideas. I will also introduce different data types and how to combine variables with English."
   ]
  },
  {
   "cell_type": "markdown",
   "id": "65c9b017",
   "metadata": {},
   "source": [
    "# 1 There is more to if"
   ]
  },
  {
   "cell_type": "markdown",
   "id": "752474aa",
   "metadata": {},
   "source": [
    "There are situations when we need more branches in an if statement. Python has the elif (else if) statement for such cases. Here is how it works"
   ]
  },
  {
   "cell_type": "code",
   "execution_count": 1,
   "id": "5ac242c7",
   "metadata": {},
   "outputs": [
    {
     "name": "stdout",
     "output_type": "stream",
     "text": [
      "Hello Batman!\n"
     ]
    }
   ],
   "source": [
    "name = 'Batman'\n",
    "\n",
    "if name == 'Batman':\n",
    "    print('Hello Batman!')\n",
    "elif name == 'Robin':\n",
    "    print('Hello Sidekick!')\n",
    "else:\n",
    "    print('Hello World!')"
   ]
  },
  {
   "cell_type": "code",
   "execution_count": 3,
   "id": "dfa3ee72",
   "metadata": {},
   "outputs": [
    {
     "name": "stdout",
     "output_type": "stream",
     "text": [
      "Hello Sidekick!\n"
     ]
    }
   ],
   "source": [
    "name = 'Robin'\n",
    "\n",
    "if name == 'Batman':\n",
    "    print('Hello Batman!')\n",
    "elif name == 'Robin':\n",
    "    print('Hello Sidekick!')\n",
    "else:\n",
    "    print('Hello World!')"
   ]
  },
  {
   "cell_type": "markdown",
   "id": "fd9e0538",
   "metadata": {},
   "source": [
    "# 2 Asking questions"
   ]
  },
  {
   "cell_type": "markdown",
   "id": "98046454",
   "metadata": {},
   "source": [
    "To use if to make decisions we need to be able to ask questions; some of which might be complicated. Let’s now look at a few more examples of how we can do this."
   ]
  },
  {
   "cell_type": "code",
   "execution_count": 4,
   "id": "9e9d8a73",
   "metadata": {},
   "outputs": [],
   "source": [
    "fruits = ['apple', 'banana', 'pineapple', 'jackfruit']\n",
    "vegetables = ['celery', 'potato', 'broccoli', 'kale']"
   ]
  },
  {
   "cell_type": "markdown",
   "id": "a9824403",
   "metadata": {},
   "source": [
    "is 'apple' in fruits?"
   ]
  },
  {
   "cell_type": "code",
   "execution_count": 6,
   "id": "ef3f42f6",
   "metadata": {},
   "outputs": [
    {
     "data": {
      "text/plain": [
       "True"
      ]
     },
     "execution_count": 6,
     "metadata": {},
     "output_type": "execute_result"
    }
   ],
   "source": [
    "'apple' in fruits"
   ]
  },
  {
   "cell_type": "markdown",
   "id": "95f6844d",
   "metadata": {},
   "source": [
    "is 'peach' in fruits?"
   ]
  },
  {
   "cell_type": "code",
   "execution_count": 7,
   "id": "e440d9f0",
   "metadata": {},
   "outputs": [
    {
     "data": {
      "text/plain": [
       "False"
      ]
     },
     "execution_count": 7,
     "metadata": {},
     "output_type": "execute_result"
    }
   ],
   "source": [
    "'peach' in fruits"
   ]
  },
  {
   "cell_type": "code",
   "execution_count": 8,
   "id": "e12ff72a",
   "metadata": {},
   "outputs": [
    {
     "data": {
      "text/plain": [
       "True"
      ]
     },
     "execution_count": 8,
     "metadata": {},
     "output_type": "execute_result"
    }
   ],
   "source": [
    "'app' in 'apple'"
   ]
  },
  {
   "cell_type": "code",
   "execution_count": 9,
   "id": "11b36faf",
   "metadata": {},
   "outputs": [
    {
     "data": {
      "text/plain": [
       "True"
      ]
     },
     "execution_count": 9,
     "metadata": {},
     "output_type": "execute_result"
    }
   ],
   "source": [
    "('apple' in fruits) or ('celery' in vegetables)"
   ]
  },
  {
   "cell_type": "code",
   "execution_count": 10,
   "id": "13367c1f",
   "metadata": {},
   "outputs": [
    {
     "data": {
      "text/plain": [
       "True"
      ]
     },
     "execution_count": 10,
     "metadata": {},
     "output_type": "execute_result"
    }
   ],
   "source": [
    "('apple' in fruits) or ('carrot' in vegetables)"
   ]
  },
  {
   "cell_type": "code",
   "execution_count": 11,
   "id": "e9735923",
   "metadata": {},
   "outputs": [
    {
     "data": {
      "text/plain": [
       "False"
      ]
     },
     "execution_count": 11,
     "metadata": {},
     "output_type": "execute_result"
    }
   ],
   "source": [
    "('blue' in fruits) or ('green' in vegetables)"
   ]
  },
  {
   "cell_type": "markdown",
   "id": "56eecaef",
   "metadata": {},
   "source": [
    "# 3 Remember"
   ]
  },
  {
   "cell_type": "markdown",
   "id": "147cbb15",
   "metadata": {},
   "source": [
    "not, in, and, or are some Python keywords that are useful in asking questions."
   ]
  },
  {
   "cell_type": "markdown",
   "id": "6efac1e5",
   "metadata": {},
   "source": [
    "In asking questions it is important to understand that basic Python only knows how to compare similar things (types) (e.g. numbers or English). So, 3 > 10.5 will work, but 3 > 'apple' will not.\n",
    "\n",
    "However, Python1 can compare 'apples' and 'oranges':"
   ]
  },
  {
   "cell_type": "code",
   "execution_count": 12,
   "id": "7c90652e",
   "metadata": {},
   "outputs": [
    {
     "data": {
      "text/plain": [
       "False"
      ]
     },
     "execution_count": 12,
     "metadata": {},
     "output_type": "execute_result"
    }
   ],
   "source": [
    "'apples' > 'oranges'"
   ]
  },
  {
   "cell_type": "markdown",
   "id": "fb5c7368",
   "metadata": {},
   "source": [
    "This comparison works because English letters are internally represented as numbers. For example, 'a' is 97 and 'o' is 111. This will become even clearer after you have worked on the section below on data types."
   ]
  },
  {
   "cell_type": "markdown",
   "id": "683656ee",
   "metadata": {},
   "source": [
    "## 3.1 Asking Math questions"
   ]
  },
  {
   "cell_type": "markdown",
   "id": "e7cde00c",
   "metadata": {},
   "source": [
    "|**Question/Condition**|**Math Symbol**|**Python Symbols**|\n",
    "|:---|:---:|---:|\n",
    "|Equals?|=|==|\n",
    "|Not equal?|≠|!=|\n",
    "|Less than?|<|<|\n",
    "|Greater than?|>|>|\n",
    "|Less than or equal to?|≤|<=|\n",
    "|Greater than or equal to?|≥|>=|"
   ]
  },
  {
   "cell_type": "markdown",
   "id": "d0b82043",
   "metadata": {},
   "source": [
    "Python also (thankfully) accepts all the following syntax:\n",
    "\n",
    "x > 5 and x < 15\n",
    "\n",
    "(x > 5) and (x < 15)\n",
    "\n",
    "5 < x < 15"
   ]
  },
  {
   "cell_type": "markdown",
   "id": "19ce83b3",
   "metadata": {},
   "source": [
    "# 4 Python stores information in different formats or types"
   ]
  },
  {
   "cell_type": "markdown",
   "id": "3ecfc07b",
   "metadata": {},
   "source": [
    "For efficiency (i.e., speed and memory), computers store information in different ways. For example, here are four ways we can store the number 1.234. We are also using the function type() to ask Python how it is storing the information."
   ]
  },
  {
   "cell_type": "code",
   "execution_count": 13,
   "id": "5e01856f",
   "metadata": {},
   "outputs": [
    {
     "name": "stdout",
     "output_type": "stream",
     "text": [
      "1 <class 'int'>\n"
     ]
    }
   ],
   "source": [
    "x = int(1.234)\n",
    "print(x, type(x))   #Store as integer"
   ]
  },
  {
   "cell_type": "code",
   "execution_count": 14,
   "id": "33ee0a39",
   "metadata": {},
   "outputs": [
    {
     "name": "stdout",
     "output_type": "stream",
     "text": [
      "1.234 <class 'str'>\n"
     ]
    }
   ],
   "source": [
    "x = str(1.234)\n",
    "print(x, type(x))   #Store as Eng word"
   ]
  },
  {
   "cell_type": "code",
   "execution_count": 15,
   "id": "c1768b82",
   "metadata": {},
   "outputs": [
    {
     "name": "stdout",
     "output_type": "stream",
     "text": [
      "1.234 <class 'float'>\n"
     ]
    }
   ],
   "source": [
    "x = float(1.234)\n",
    "print(x, type(x))   #Store as decimal value"
   ]
  },
  {
   "cell_type": "code",
   "execution_count": 16,
   "id": "78accf1e",
   "metadata": {},
   "outputs": [
    {
     "name": "stdout",
     "output_type": "stream",
     "text": [
      "(1.234+0j) <class 'complex'>\n"
     ]
    }
   ],
   "source": [
    "x = complex(1.234)\n",
    "print(x, type(x))   #Store as complex number"
   ]
  },
  {
   "cell_type": "markdown",
   "id": "7bbe43cc",
   "metadata": {},
   "source": [
    "There are many other types of data. Often we will need to change the type of a variable."
   ]
  },
  {
   "cell_type": "code",
   "execution_count": 17,
   "id": "81614497",
   "metadata": {},
   "outputs": [
    {
     "name": "stdout",
     "output_type": "stream",
     "text": [
      "1.234 <class 'str'>\n"
     ]
    }
   ],
   "source": [
    "x = '1.234'        # x is a string\n",
    "print(x, type(x))"
   ]
  },
  {
   "cell_type": "code",
   "execution_count": 18,
   "id": "5410cce7",
   "metadata": {},
   "outputs": [
    {
     "name": "stdout",
     "output_type": "stream",
     "text": [
      "1.234 <class 'float'>\n"
     ]
    }
   ],
   "source": [
    "x = float(x)       # x is now a decimal number\n",
    "print(x, type(x))"
   ]
  },
  {
   "cell_type": "markdown",
   "id": "95643dd4",
   "metadata": {},
   "source": [
    "This is called typecasting; where we cast x to the type float."
   ]
  },
  {
   "cell_type": "markdown",
   "id": "8802455a",
   "metadata": {},
   "source": [
    "# 5 Never compare floats directly"
   ]
  },
  {
   "cell_type": "markdown",
   "id": "561d115f",
   "metadata": {},
   "source": [
    "## 5.1 The Problem"
   ]
  },
  {
   "cell_type": "markdown",
   "id": "ef256b8b",
   "metadata": {},
   "source": [
    "when often need to compare numbers, especially for scientific work. Unfortunately, since computers have finite (hardware) resources, floating point numbers cannot be exactly stored in a computer3. This leads to errors called roundoff errors. Let me demonstrate:"
   ]
  },
  {
   "cell_type": "code",
   "execution_count": 19,
   "id": "73803fcc",
   "metadata": {},
   "outputs": [
    {
     "data": {
      "text/plain": [
       "False"
      ]
     },
     "execution_count": 19,
     "metadata": {},
     "output_type": "execute_result"
    }
   ],
   "source": [
    "a = 0.1\n",
    "a3 = 0.3\n",
    "a * 3 == a3"
   ]
  },
  {
   "cell_type": "markdown",
   "id": "0c70b2d4",
   "metadata": {},
   "source": [
    "## 5.2 A solution"
   ]
  },
  {
   "cell_type": "markdown",
   "id": "1f7d396e",
   "metadata": {},
   "source": [
    "To get around these types of issues, you should check if the variable is **close to the expected values** instead of checking for equality."
   ]
  },
  {
   "cell_type": "code",
   "execution_count": 21,
   "id": "5231f8e3",
   "metadata": {},
   "outputs": [],
   "source": [
    "import numpy as np"
   ]
  },
  {
   "cell_type": "code",
   "execution_count": 22,
   "id": "064ae62e",
   "metadata": {},
   "outputs": [
    {
     "data": {
      "text/plain": [
       "True"
      ]
     },
     "execution_count": 22,
     "metadata": {},
     "output_type": "execute_result"
    }
   ],
   "source": [
    "np.isclose(a * 3, a3)"
   ]
  },
  {
   "cell_type": "markdown",
   "id": "21527a49",
   "metadata": {},
   "source": [
    "# 6 Combining English and variables"
   ]
  },
  {
   "cell_type": "markdown",
   "id": "07d852c4",
   "metadata": {},
   "source": [
    "Although often underappreciated, one of the most valuable coding skills is the ability to seamlessly combine strings (i.e., English) with variables. "
   ]
  },
  {
   "cell_type": "code",
   "execution_count": 24,
   "id": "8ae16032",
   "metadata": {},
   "outputs": [
    {
     "name": "stdout",
     "output_type": "stream",
     "text": [
      "Hello Batman!\n"
     ]
    }
   ],
   "source": [
    "name = \"Batman\"\n",
    "print(f\"Hello {name}!\")"
   ]
  },
  {
   "cell_type": "code",
   "execution_count": 25,
   "id": "1c468d93",
   "metadata": {},
   "outputs": [
    {
     "name": "stdout",
     "output_type": "stream",
     "text": [
      "Hello BATMAN!\n"
     ]
    }
   ],
   "source": [
    "name = \"Batman\"\n",
    "print(f\"Hello {name.upper()}!\")"
   ]
  },
  {
   "cell_type": "code",
   "execution_count": 26,
   "id": "bcaf2ad4",
   "metadata": {},
   "outputs": [
    {
     "name": "stdout",
     "output_type": "stream",
     "text": [
      "The value of 10 squared is 100!\n"
     ]
    }
   ],
   "source": [
    "x = 10\n",
    "print(f\"The value of {x} squared is {x**2}!\")"
   ]
  },
  {
   "cell_type": "markdown",
   "id": "32501c78",
   "metadata": {},
   "source": [
    "Note the f and the { } in the above command. This is called f-string or string interpolation."
   ]
  },
  {
   "cell_type": "markdown",
   "id": "bcbb8964",
   "metadata": {},
   "source": [
    "More ways to use f-strings"
   ]
  },
  {
   "cell_type": "markdown",
   "id": "8b5590c1",
   "metadata": {},
   "source": [
    "1. Using f-strings to format texts"
   ]
  },
  {
   "cell_type": "code",
   "execution_count": 27,
   "id": "c07a07aa",
   "metadata": {},
   "outputs": [
    {
     "name": "stdout",
     "output_type": "stream",
     "text": [
      "Bruce Wayne is Batman.\n"
     ]
    }
   ],
   "source": [
    "text = 'Bruce Wayne is Batman.'\n",
    "print(f'{text}')"
   ]
  },
  {
   "cell_type": "code",
   "execution_count": 28,
   "id": "690416f6",
   "metadata": {},
   "outputs": [
    {
     "name": "stdout",
     "output_type": "stream",
     "text": [
      "        Bruce Wayne is Batman.\n"
     ]
    }
   ],
   "source": [
    "print(f'{text:>30}')      # A block of 30 characters;\n",
    "                          # aligned right"
   ]
  },
  {
   "cell_type": "code",
   "execution_count": 29,
   "id": "540ab4c5",
   "metadata": {},
   "outputs": [
    {
     "name": "stdout",
     "output_type": "stream",
     "text": [
      "    Bruce Wayne is Batman.    \n"
     ]
    }
   ],
   "source": [
    "print(f'{text:^30}')      # A block of 30 characters;\n",
    "                          # aligned centre"
   ]
  },
  {
   "cell_type": "code",
   "execution_count": 30,
   "id": "4be0b66d",
   "metadata": {},
   "outputs": [
    {
     "name": "stdout",
     "output_type": "stream",
     "text": [
      "Bruce Wayne is Batman.        \n"
     ]
    }
   ],
   "source": [
    "print(f'{text:<30}')      # A block of 30 characters;\n",
    "                          # aligned left"
   ]
  },
  {
   "cell_type": "markdown",
   "id": "1776dc64",
   "metadata": {},
   "source": [
    "Using f-string to format numbers"
   ]
  },
  {
   "cell_type": "code",
   "execution_count": 31,
   "id": "bfebe070",
   "metadata": {},
   "outputs": [
    {
     "name": "stdout",
     "output_type": "stream",
     "text": [
      "The cube of pi to 6 decimal places is 31.006277\n"
     ]
    }
   ],
   "source": [
    "print(f'The cube of pi to 6 decimal places is {np.pi**3:.6f}')    #The f in .6f is used to tell the f-string to output the number in decimal notation."
   ]
  },
  {
   "cell_type": "code",
   "execution_count": 32,
   "id": "60ca8a4b",
   "metadata": {},
   "outputs": [
    {
     "name": "stdout",
     "output_type": "stream",
     "text": [
      "The cube of pi to 6 decimal places is 3.100628e+01\n"
     ]
    }
   ],
   "source": [
    "print(f'The cube of pi to 6 decimal places is {np.pi**3:.6e}')    #The e in .6e is used to tell the f-string to output the number in scientific notation."
   ]
  },
  {
   "cell_type": "markdown",
   "id": "dae9f6d2",
   "metadata": {},
   "source": [
    "## 6.1 Structure of f-strings"
   ]
  },
  {
   "cell_type": "markdown",
   "id": "7ba39220",
   "metadata": {},
   "source": [
    "f-string formatting has the structure {X:>0Y.ZW}. Here is more information about the letters X,Y,>, 0,Z and W."
   ]
  },
  {
   "cell_type": "markdown",
   "id": "9575acaa",
   "metadata": {},
   "source": [
    "|$$Letter$$|$$Action$$|\t$$Possible Options$$|\n",
    "|:---|:---:|---:|\n",
    "|X|\tVariable to format|\tCan be a number or a string|\n",
    "|>|\tAlignment|< (Left justified);> (Right justified); ^ (Centre justified)|\n",
    "|0|\tUse 0’s to pad the spaces|\tYou can use other characters like a space .|\n",
    "|Y|\tTotal number of characters|\t|\n",
    "|Z|\tNumber of decimal places||\t\n",
    "|W|\tSpecifies the type of variable|f (float); d (integer); s (string); g (Asks Python to figure out)|\n"
   ]
  },
  {
   "cell_type": "markdown",
   "id": "09a0fabf",
   "metadata": {},
   "source": [
    "# 7 Escape sequences"
   ]
  },
  {
   "cell_type": "markdown",
   "id": "7dd089b8",
   "metadata": {},
   "source": [
    " refers to special characters we sometimes need when writing English. For example, to break a line and add a tab:"
   ]
  },
  {
   "cell_type": "code",
   "execution_count": 33,
   "id": "48cf7608",
   "metadata": {},
   "outputs": [
    {
     "name": "stdout",
     "output_type": "stream",
     "text": [
      "Line 1\n",
      "\tLine 2\n",
      "\t\tLine 3\n"
     ]
    }
   ],
   "source": [
    "print('Line 1\\n\\tLine 2\\n\\t\\tLine 3')  #The \\n is the command to breakline and \\t represents a tab."
   ]
  },
  {
   "cell_type": "markdown",
   "id": "3b5e6a95",
   "metadata": {},
   "source": [
    "|Escape Sequence|Meaning|\n",
    "|:---|---:|\n",
    "|\\’|Single quote|\n",
    "|\\\\|Backslash|\n",
    "|\\n|Newline|\n",
    "|\\t|Horizontal Tab|"
   ]
  },
  {
   "cell_type": "markdown",
   "id": "25a6be2a",
   "metadata": {},
   "source": [
    "In a previous example, I had to use both \" and ' to print “You’re twenty years old.”. However, with the escaped version of ' things are simpler."
   ]
  },
  {
   "cell_type": "code",
   "execution_count": 34,
   "id": "241fa7ff",
   "metadata": {},
   "outputs": [
    {
     "name": "stdout",
     "output_type": "stream",
     "text": [
      "You're twenty years old.\n"
     ]
    }
   ],
   "source": [
    "print('You\\'re twenty years old.') "
   ]
  },
  {
   "cell_type": "markdown",
   "id": "23dfcfed",
   "metadata": {},
   "source": [
    "If you want to print \\\\, you need to ‘escape’ it. "
   ]
  },
  {
   "cell_type": "code",
   "execution_count": 35,
   "id": "a69c6dc5",
   "metadata": {},
   "outputs": [
    {
     "name": "stdout",
     "output_type": "stream",
     "text": [
      "A\\B\\C\n"
     ]
    }
   ],
   "source": [
    "print('A\\\\B\\\\C')"
   ]
  },
  {
   "cell_type": "code",
   "execution_count": 36,
   "id": "b084c7ea",
   "metadata": {},
   "outputs": [
    {
     "name": "stdout",
     "output_type": "stream",
     "text": [
      "A\n",
      "B\n",
      "C\n"
     ]
    }
   ],
   "source": [
    "print('A\\nB\\nC')"
   ]
  },
  {
   "cell_type": "code",
   "execution_count": 37,
   "id": "86341141",
   "metadata": {},
   "outputs": [
    {
     "name": "stdout",
     "output_type": "stream",
     "text": [
      "A\tB\tC\n"
     ]
    }
   ],
   "source": [
    "print('A\\tB\\tC')"
   ]
  },
  {
   "cell_type": "markdown",
   "id": "43123362",
   "metadata": {},
   "source": [
    "# 8 Computers read = from Right to Left!"
   ]
  },
  {
   "cell_type": "code",
   "execution_count": 42,
   "id": "8afc5f92",
   "metadata": {},
   "outputs": [
    {
     "name": "stdout",
     "output_type": "stream",
     "text": [
      "42\n"
     ]
    }
   ],
   "source": [
    "x = 40\n",
    "y = x + 2\n",
    "print(y)"
   ]
  },
  {
   "cell_type": "code",
   "execution_count": 39,
   "id": "eb47a35a",
   "metadata": {},
   "outputs": [
    {
     "name": "stdout",
     "output_type": "stream",
     "text": [
      "42\n"
     ]
    }
   ],
   "source": [
    "y = 40\n",
    "y = y + 2\n",
    "print(y)"
   ]
  },
  {
   "cell_type": "markdown",
   "id": "45c4e08d",
   "metadata": {},
   "source": [
    "Note: Python also allows the following syntax."
   ]
  },
  {
   "cell_type": "code",
   "execution_count": 41,
   "id": "3cacf954",
   "metadata": {},
   "outputs": [],
   "source": [
    "x = y = 10"
   ]
  },
  {
   "cell_type": "markdown",
   "id": "c600a1dc",
   "metadata": {},
   "source": [
    "# 9 Shorter and Cleaner Code"
   ]
  },
  {
   "cell_type": "markdown",
   "id": "d6ca3056",
   "metadata": {},
   "source": [
    "Shorthands to make code cleaner "
   ]
  },
  {
   "cell_type": "code",
   "execution_count": 43,
   "id": "208dde08",
   "metadata": {},
   "outputs": [
    {
     "data": {
      "text/plain": [
       "42"
      ]
     },
     "execution_count": 43,
     "metadata": {},
     "output_type": "execute_result"
    }
   ],
   "source": [
    "y = 40\n",
    "y += 2    # Same as y = y + 2\n",
    "y"
   ]
  },
  {
   "cell_type": "markdown",
   "id": "293ee72b",
   "metadata": {},
   "source": [
    "|$$ $$|Long form|Short hand|\n",
    "|:---|:---:|---:|\n",
    "|Addition|y = y+2|y += 2|\n",
    "|Subtraction|y = y-2|y -= 2|\n",
    "|Multiplication|y = y* 2|y * = 2|\n",
    "|Division|y = y/2|y /= 2|"
   ]
  },
  {
   "cell_type": "markdown",
   "id": "9b447479",
   "metadata": {},
   "source": [
    "# 10 Python can be a prima-donna."
   ]
  },
  {
   "cell_type": "markdown",
   "id": "e144f615",
   "metadata": {},
   "source": [
    "When Python encounters unfamiliar or problematic code, it tends to generate detailed error messages. It recommends treating these messages as complaints and suggests examining the end of the error message for the actual issue. Underscoring the significance of debugging in programming, it emphasizes that resolving coding errors is a fundamental aspect of the process. The passage encourages programmers to actively engage in debugging, asserting that the more debugging one undertakes, the more adept they become at both critical thinking and programming."
   ]
  },
  {
   "cell_type": "markdown",
   "id": "c019eb42",
   "metadata": {},
   "source": [
    "# 11 Best Practices for Scientific Computing"
   ]
  },
  {
   "cell_type": "markdown",
   "id": "d70bbe8e",
   "metadata": {},
   "source": [
    "- Write programs for people, not computers.\n",
    "- Optimise software only after it works correctly.\n",
    "- Document design and purpose, not mechanics.\n",
    "- Collaborate.\n",
    "\n",
    "Another common pitfall novices succumb to is pursuing a perfect solution right from the get-go. Instead, it is better to get something (anything) working. You can then make things complicated and/or optimize your code."
   ]
  },
  {
   "cell_type": "markdown",
   "id": "19f4e9e6",
   "metadata": {},
   "source": [
    "# 12 Looking for help"
   ]
  },
  {
   "cell_type": "code",
   "execution_count": 44,
   "id": "e5a3c27d",
   "metadata": {},
   "outputs": [
    {
     "name": "stdout",
     "output_type": "stream",
     "text": [
      "Help on built-in function print in module builtins:\n",
      "\n",
      "print(*args, sep=' ', end='\\n', file=None, flush=False)\n",
      "    Prints the values to a stream, or to sys.stdout by default.\n",
      "    \n",
      "    sep\n",
      "      string inserted between values, default a space.\n",
      "    end\n",
      "      string appended after the last value, default a newline.\n",
      "    file\n",
      "      a file-like object (stream); defaults to the current sys.stdout.\n",
      "    flush\n",
      "      whether to forcibly flush the stream.\n",
      "\n"
     ]
    }
   ],
   "source": [
    "help(print)"
   ]
  },
  {
   "cell_type": "markdown",
   "id": "4f1a7be6",
   "metadata": {},
   "source": [
    "The above is the documentation corresponding to the function print(). Unfortunately, unless you already have some experience, this documentation is not the friendliest. The internet (e.g. stack overflow, Google or ChatGPT) is the fastest way to get a question about programming answered."
   ]
  },
  {
   "cell_type": "markdown",
   "id": "a81aca8a",
   "metadata": {},
   "source": [
    "## References"
   ]
  },
  {
   "cell_type": "markdown",
   "id": "f1842c63",
   "metadata": {},
   "source": [
    "Wilson, Greg, D. A. Aruliah, C. Titus Brown, Neil P. Chue Hong, Matt Davis, Richard T. Guy, Steven H. D. Haddock, et al. 2014. “Best Practices for Scientific Computing.” PLOS Biology 12 (1): e1001745. https://doi.org/10.1371/journal.pbio.1001745."
   ]
  }
 ],
 "metadata": {
  "kernelspec": {
   "display_name": "Python 3 (ipykernel)",
   "language": "python",
   "name": "python3"
  },
  "language_info": {
   "codemirror_mode": {
    "name": "ipython",
    "version": 3
   },
   "file_extension": ".py",
   "mimetype": "text/x-python",
   "name": "python",
   "nbconvert_exporter": "python",
   "pygments_lexer": "ipython3",
   "version": "3.11.5"
  },
  "toc": {
   "base_numbering": 1,
   "nav_menu": {},
   "number_sections": true,
   "sideBar": true,
   "skip_h1_title": false,
   "title_cell": "Table of Contents",
   "title_sidebar": "Contents",
   "toc_cell": false,
   "toc_position": {},
   "toc_section_display": true,
   "toc_window_display": false
  },
  "vscode": {
   "interpreter": {
    "hash": "31f2aee4e71d21fbe5cf8b01ff0e069b9275f58929596ceb00d14d90e3e16cd6"
   }
  }
 },
 "nbformat": 4,
 "nbformat_minor": 5
}
