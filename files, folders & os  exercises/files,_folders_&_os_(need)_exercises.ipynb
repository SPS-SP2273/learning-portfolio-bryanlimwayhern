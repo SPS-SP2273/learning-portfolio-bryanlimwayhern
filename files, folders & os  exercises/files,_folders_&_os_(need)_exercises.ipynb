{
 "cells": [
  {
   "cell_type": "markdown",
   "id": "123456",
   "metadata": {},
   "source": [
    "<div style=\"text-align:left;font-size:2em\"><span style=\"font-weight:bolder;font-size:1.25em\">SP2273 | Learning Portfolio</span><br><br><span style=\"font-weight:bold;color:darkred\">Files, Folders & OS (Need) Exercises</span></div>"
   ]
  },
  {
   "cell_type": "code",
   "execution_count": 1,
   "id": "f728eff0",
   "metadata": {},
   "outputs": [
    {
     "data": {
      "text/plain": [
       "('oct-08_singapore.txt', <http.client.HTTPMessage at 0x1c6f9b0bd10>)"
      ]
     },
     "execution_count": 1,
     "metadata": {},
     "output_type": "execute_result"
    }
   ],
   "source": [
    "import urllib.request\n",
    "\n",
    "url = \"https://sps.nus.edu.sg/sp2273/docs/python_basics/06_this-n-that/os-collaboration-exercise-data.zip\"\n",
    "filename = \"oct-08_singapore.txt\"\n",
    "\n",
    "urllib.request.urlretrieve(url, filename)"
   ]
  },
  {
   "cell_type": "code",
   "execution_count": 5,
   "id": "575abeb1",
   "metadata": {},
   "outputs": [
    {
     "name": "stdout",
     "output_type": "stream",
     "text": [
      "10-08-singapore.txt\n"
     ]
    }
   ],
   "source": [
    "# Given filename\n",
    "filename = 'oct-08_singapore.txt'\n",
    "\n",
    "# Month dictionary\n",
    "month_dict = {\n",
    "    'jan': '01', 'feb': '02', 'mar': '03',\n",
    "    'apr': '04', 'may': '05', 'jun': '06',\n",
    "    'jul': '07', 'aug': '08', 'sep': '09',\n",
    "    'oct': '10', 'nov': '11', 'dec': '12'\n",
    "}\n",
    "\n",
    "# Split filename into components\n",
    "date_city, extension = filename.split('_')\n",
    "month, day = date_city.split('-')\n",
    "\n",
    "# Convert month abbreviation to numerical format\n",
    "month_numeric = month_dict[month.lower()]\n",
    "\n",
    "# Create the new filename\n",
    "new_filename = f'{month_numeric}-{day}-{extension}'\n",
    "\n",
    "# Print the result\n",
    "print(new_filename)\n"
   ]
  },
  {
   "cell_type": "code",
   "execution_count": 6,
   "id": "be23ffe7",
   "metadata": {},
   "outputs": [
    {
     "name": "stdout",
     "output_type": "stream",
     "text": [
      "10-08-singapore.txt\n"
     ]
    }
   ],
   "source": [
    "def rename_my_file(old_file_name):\n",
    "    # Month dictionary\n",
    "    month_dict = {\n",
    "        'jan': '01', 'feb': '02', 'mar': '03',\n",
    "        'apr': '04', 'may': '05', 'jun': '06',\n",
    "        'jul': '07', 'aug': '08', 'sep': '09',\n",
    "        'oct': '10', 'nov': '11', 'dec': '12'\n",
    "    }\n",
    "\n",
    "    # Split filename into components\n",
    "    date_city, extension = old_file_name.split('_')\n",
    "    month, day = date_city.split('-')\n",
    "\n",
    "    # Convert month abbreviation to numerical format\n",
    "    month_numeric = month_dict[month.lower()]\n",
    "\n",
    "    # Create the new filename\n",
    "    new_filename = f'{month_numeric}-{day}-{extension}'\n",
    "\n",
    "    return new_filename\n",
    "\n",
    "# Example usage\n",
    "old_filename = 'oct-08_singapore.txt'\n",
    "new_filename = rename_my_file(old_filename)\n",
    "print(new_filename)\n"
   ]
  },
  {
   "cell_type": "code",
   "execution_count": 7,
   "id": "4326bdbd",
   "metadata": {},
   "outputs": [
    {
     "name": "stdout",
     "output_type": "stream",
     "text": [
      "oct-08_singapore.txt ----> 10-08-singapore.txt\n",
      "jul-10_cairo.txt ----> 07-10-cairo.txt\n",
      "may-15_dhaka.txt ----> 05-15-dhaka.txt\n",
      "may-13_cairo.txt ----> 05-13-cairo.txt\n",
      "oct-21_cairo.txt ----> 10-21-cairo.txt\n",
      "jan-10_singapore.txt ----> 01-10-singapore.txt\n",
      "jun-20_tokyo.txt ----> 06-20-tokyo.txt\n",
      "aug-06_jakarta.txt ----> 08-06-jakarta.txt\n",
      "dec-21_karachi.txt ----> 12-21-karachi.txt\n",
      "jan-01_tokyo.txt ----> 01-01-tokyo.txt\n"
     ]
    }
   ],
   "source": [
    "# Function to rename files\n",
    "def rename_my_file(old_file_name):\n",
    "    # Month dictionary\n",
    "    month_dict = {\n",
    "        'jan': '01', 'feb': '02', 'mar': '03',\n",
    "        'apr': '04', 'may': '05', 'jun': '06',\n",
    "        'jul': '07', 'aug': '08', 'sep': '09',\n",
    "        'oct': '10', 'nov': '11', 'dec': '12'\n",
    "    }\n",
    "\n",
    "    # Split filename into components\n",
    "    date_city, extension = old_file_name.split('_')\n",
    "    month, day = date_city.split('-')\n",
    "\n",
    "    # Convert month abbreviation to numerical format\n",
    "    month_numeric = month_dict[month.lower()]\n",
    "\n",
    "    # Create the new filename\n",
    "    new_filename = f'{month_numeric}-{day}-{extension}'\n",
    "\n",
    "    return new_filename\n",
    "\n",
    "# List of filenames\n",
    "file_list = ['oct-08_singapore.txt', 'jul-10_cairo.txt', 'may-15_dhaka.txt',\n",
    "             'may-13_cairo.txt', 'oct-21_cairo.txt', 'jan-10_singapore.txt',\n",
    "             'jun-20_tokyo.txt', 'aug-06_jakarta.txt', 'dec-21_karachi.txt',\n",
    "             'jan-01_tokyo.txt']\n",
    "\n",
    "# Apply the function and print progress\n",
    "for old_filename in file_list:\n",
    "    new_filename = rename_my_file(old_filename)\n",
    "    print(f'{old_filename} ----> {new_filename}')\n"
   ]
  },
  {
   "cell_type": "code",
   "execution_count": 8,
   "id": "d78386a0",
   "metadata": {},
   "outputs": [
    {
     "name": "stdout",
     "output_type": "stream",
     "text": [
      "Skipped (Already Renamed): oct-08_singapore.txt\n"
     ]
    }
   ],
   "source": [
    "import glob\n",
    "import os\n",
    "\n",
    "# Function to rename files\n",
    "def rename_my_file(old_file_name):\n",
    "    # Month dictionary\n",
    "    month_dict = {\n",
    "        'jan': '01', 'feb': '02', 'mar': '03',\n",
    "        'apr': '04', 'may': '05', 'jun': '06',\n",
    "        'jul': '07', 'aug': '08', 'sep': '09',\n",
    "        'oct': '10', 'nov': '11', 'dec': '12'\n",
    "    }\n",
    "\n",
    "    # Split filename into components\n",
    "    date_city, extension = old_file_name.split('_')\n",
    "\n",
    "    # Check if the file has already been renamed\n",
    "    if '-' in date_city:\n",
    "        # Already in the desired format, no need to rename\n",
    "        return old_file_name\n",
    "\n",
    "    month, day = date_city.split('-')\n",
    "\n",
    "    # Convert month abbreviation to numerical format\n",
    "    month_numeric = month_dict[month.lower()]\n",
    "\n",
    "    # Create the new filename\n",
    "    new_filename = f'{month_numeric}-{day}-{extension}'\n",
    "\n",
    "    return new_filename\n",
    "\n",
    "# Get a list of all .txt files in the folder\n",
    "txt_files = glob.glob('*.txt')\n",
    "\n",
    "# Rename each .txt file using rename_my_file function\n",
    "for old_filename in txt_files:\n",
    "    new_filename = rename_my_file(old_filename)\n",
    "\n",
    "    # Rename the file only if the names are different\n",
    "    if old_filename != new_filename:\n",
    "        os.rename(old_filename, new_filename)\n",
    "        print(f'Renamed: {old_filename} ----> {new_filename}')\n",
    "    else:\n",
    "        print(f'Skipped (Already Renamed): {old_filename}')\n"
   ]
  },
  {
   "cell_type": "code",
   "execution_count": 9,
   "id": "f13b21b6",
   "metadata": {},
   "outputs": [
    {
     "name": "stdout",
     "output_type": "stream",
     "text": [
      "Folder created for Cairo: C:\\Users\\B R Y A N\\OneDrive\\Desktop\\learning-portfolio-bryanlimwayhern\\files, folders & os  exercises\\Cairo\n",
      "Folder created for Dhaka: C:\\Users\\B R Y A N\\OneDrive\\Desktop\\learning-portfolio-bryanlimwayhern\\files, folders & os  exercises\\Dhaka\n",
      "Folder created for Jakarta: C:\\Users\\B R Y A N\\OneDrive\\Desktop\\learning-portfolio-bryanlimwayhern\\files, folders & os  exercises\\Jakarta\n",
      "Folder created for Karachi: C:\\Users\\B R Y A N\\OneDrive\\Desktop\\learning-portfolio-bryanlimwayhern\\files, folders & os  exercises\\Karachi\n",
      "Folder created for Manila: C:\\Users\\B R Y A N\\OneDrive\\Desktop\\learning-portfolio-bryanlimwayhern\\files, folders & os  exercises\\Manila\n",
      "Folder created for Melbourne: C:\\Users\\B R Y A N\\OneDrive\\Desktop\\learning-portfolio-bryanlimwayhern\\files, folders & os  exercises\\Melbourne\n",
      "Folder created for Osaka: C:\\Users\\B R Y A N\\OneDrive\\Desktop\\learning-portfolio-bryanlimwayhern\\files, folders & os  exercises\\Osaka\n",
      "Folder created for Shanghai: C:\\Users\\B R Y A N\\OneDrive\\Desktop\\learning-portfolio-bryanlimwayhern\\files, folders & os  exercises\\Shanghai\n",
      "Folder created for Singapore: C:\\Users\\B R Y A N\\OneDrive\\Desktop\\learning-portfolio-bryanlimwayhern\\files, folders & os  exercises\\Singapore\n",
      "Folder created for Tokyo: C:\\Users\\B R Y A N\\OneDrive\\Desktop\\learning-portfolio-bryanlimwayhern\\files, folders & os  exercises\\Tokyo\n"
     ]
    }
   ],
   "source": [
    "import os\n",
    "\n",
    "# List of cities\n",
    "cities = ['Cairo', 'Dhaka', 'Jakarta', 'Karachi', 'Manila',\n",
    "          'Melbourne', 'Osaka', 'Shanghai', 'Singapore', 'Tokyo']\n",
    "\n",
    "# Create a folder for each city\n",
    "for city in cities:\n",
    "    folder_path = os.path.join(os.getcwd(), city)\n",
    "\n",
    "    # Check if the folder already exists\n",
    "    if not os.path.exists(folder_path):\n",
    "        os.mkdir(folder_path)\n",
    "        print(f'Folder created for {city}: {folder_path}')\n",
    "    else:\n",
    "        print(f'Folder already exists for {city}: {folder_path}')\n"
   ]
  },
  {
   "cell_type": "code",
   "execution_count": 12,
   "id": "4be5486c",
   "metadata": {},
   "outputs": [
    {
     "name": "stdout",
     "output_type": "stream",
     "text": [
      "Folder already exists for Cairo: C:\\Users\\B R Y A N\\OneDrive\\Desktop\\learning-portfolio-bryanlimwayhern\\files, folders & os  exercises\\Cairo\n",
      "Folder already exists for Dhaka: C:\\Users\\B R Y A N\\OneDrive\\Desktop\\learning-portfolio-bryanlimwayhern\\files, folders & os  exercises\\Dhaka\n",
      "Folder already exists for Jakarta: C:\\Users\\B R Y A N\\OneDrive\\Desktop\\learning-portfolio-bryanlimwayhern\\files, folders & os  exercises\\Jakarta\n",
      "Folder already exists for Karachi: C:\\Users\\B R Y A N\\OneDrive\\Desktop\\learning-portfolio-bryanlimwayhern\\files, folders & os  exercises\\Karachi\n",
      "Folder already exists for Manila: C:\\Users\\B R Y A N\\OneDrive\\Desktop\\learning-portfolio-bryanlimwayhern\\files, folders & os  exercises\\Manila\n",
      "Folder already exists for Melbourne: C:\\Users\\B R Y A N\\OneDrive\\Desktop\\learning-portfolio-bryanlimwayhern\\files, folders & os  exercises\\Melbourne\n",
      "Folder already exists for Osaka: C:\\Users\\B R Y A N\\OneDrive\\Desktop\\learning-portfolio-bryanlimwayhern\\files, folders & os  exercises\\Osaka\n",
      "Folder already exists for Shanghai: C:\\Users\\B R Y A N\\OneDrive\\Desktop\\learning-portfolio-bryanlimwayhern\\files, folders & os  exercises\\Shanghai\n",
      "Folder already exists for Singapore: C:\\Users\\B R Y A N\\OneDrive\\Desktop\\learning-portfolio-bryanlimwayhern\\files, folders & os  exercises\\Singapore\n",
      "Folder already exists for Tokyo: C:\\Users\\B R Y A N\\OneDrive\\Desktop\\learning-portfolio-bryanlimwayhern\\files, folders & os  exercises\\Tokyo\n",
      "Permission error: Unable to copy Cairo to C:\\Users\\B R Y A N\\Cairo_Files\n"
     ]
    }
   ],
   "source": [
    "import os\n",
    "import glob\n",
    "import shutil\n",
    "\n",
    "# List of cities\n",
    "cities = ['Cairo', 'Dhaka', 'Jakarta', 'Karachi', 'Manila',\n",
    "          'Melbourne', 'Osaka', 'Shanghai', 'Singapore', 'Tokyo']\n",
    "\n",
    "# Create folders for each city\n",
    "for city in cities:\n",
    "    folder_path = os.path.join(os.getcwd(), city)\n",
    "    \n",
    "    # Check if the folder already exists\n",
    "    if not os.path.exists(folder_path):\n",
    "        os.mkdir(folder_path)\n",
    "        print(f'Folder created for {city}: {folder_path}')\n",
    "    else:\n",
    "        print(f'Folder already exists for {city}: {folder_path}')\n",
    "\n",
    "# List all files related to Cairo\n",
    "cairo_files = glob.glob('Cairo*')\n",
    "\n",
    "# Create a subfolder within the user's home directory for Cairo files\n",
    "destination_folder = os.path.join(os.path.expanduser(\"~\"), 'Cairo_Files')\n",
    "\n",
    "# Check if the destination folder already exists or create it\n",
    "if not os.path.exists(destination_folder):\n",
    "    os.mkdir(destination_folder)\n",
    "    print(f'Destination folder created: {destination_folder}')\n",
    "\n",
    "# Copy each file to the Cairo folder within the user's home directory\n",
    "for file_path in cairo_files:\n",
    "    file_name = os.path.basename(file_path)\n",
    "    destination_path = os.path.join(destination_folder, file_name)\n",
    "\n",
    "    try:\n",
    "        shutil.copy2(file_path, destination_path)\n",
    "        print(f'Copied {file_name} to {destination_folder}')\n",
    "    except PermissionError:\n",
    "        print(f'Permission error: Unable to copy {file_name} to {destination_folder}')\n"
   ]
  },
  {
   "cell_type": "code",
   "execution_count": 13,
   "id": "f2998f14",
   "metadata": {},
   "outputs": [
    {
     "name": "stdout",
     "output_type": "stream",
     "text": [
      "Folder already exists for Cairo: C:\\Users\\B R Y A N\\OneDrive\\Desktop\\learning-portfolio-bryanlimwayhern\\files, folders & os  exercises\\Cairo\n",
      "Folder already exists for Dhaka: C:\\Users\\B R Y A N\\OneDrive\\Desktop\\learning-portfolio-bryanlimwayhern\\files, folders & os  exercises\\Dhaka\n",
      "Folder already exists for Jakarta: C:\\Users\\B R Y A N\\OneDrive\\Desktop\\learning-portfolio-bryanlimwayhern\\files, folders & os  exercises\\Jakarta\n",
      "Folder already exists for Karachi: C:\\Users\\B R Y A N\\OneDrive\\Desktop\\learning-portfolio-bryanlimwayhern\\files, folders & os  exercises\\Karachi\n",
      "Folder already exists for Manila: C:\\Users\\B R Y A N\\OneDrive\\Desktop\\learning-portfolio-bryanlimwayhern\\files, folders & os  exercises\\Manila\n",
      "Folder already exists for Melbourne: C:\\Users\\B R Y A N\\OneDrive\\Desktop\\learning-portfolio-bryanlimwayhern\\files, folders & os  exercises\\Melbourne\n",
      "Folder already exists for Osaka: C:\\Users\\B R Y A N\\OneDrive\\Desktop\\learning-portfolio-bryanlimwayhern\\files, folders & os  exercises\\Osaka\n",
      "Folder already exists for Shanghai: C:\\Users\\B R Y A N\\OneDrive\\Desktop\\learning-portfolio-bryanlimwayhern\\files, folders & os  exercises\\Shanghai\n",
      "Folder already exists for Singapore: C:\\Users\\B R Y A N\\OneDrive\\Desktop\\learning-portfolio-bryanlimwayhern\\files, folders & os  exercises\\Singapore\n",
      "Folder already exists for Tokyo: C:\\Users\\B R Y A N\\OneDrive\\Desktop\\learning-portfolio-bryanlimwayhern\\files, folders & os  exercises\\Tokyo\n"
     ]
    },
    {
     "ename": "Error",
     "evalue": "Cannot move a directory 'Cairo' into itself 'C:\\Users\\B R Y A N\\OneDrive\\Desktop\\learning-portfolio-bryanlimwayhern\\files, folders & os  exercises\\Cairo\\Cairo'.",
     "output_type": "error",
     "traceback": [
      "\u001b[1;31m---------------------------------------------------------------------------\u001b[0m",
      "\u001b[1;31mOSError\u001b[0m                                   Traceback (most recent call last)",
      "File \u001b[1;32m~\\miniconda3\\Lib\\shutil.py:825\u001b[0m, in \u001b[0;36mmove\u001b[1;34m(src, dst, copy_function)\u001b[0m\n\u001b[0;32m    824\u001b[0m \u001b[38;5;28;01mtry\u001b[39;00m:\n\u001b[1;32m--> 825\u001b[0m     os\u001b[38;5;241m.\u001b[39mrename(src, real_dst)\n\u001b[0;32m    826\u001b[0m \u001b[38;5;28;01mexcept\u001b[39;00m \u001b[38;5;167;01mOSError\u001b[39;00m:\n",
      "\u001b[1;31mOSError\u001b[0m: [WinError 87] The parameter is incorrect: 'Cairo' -> 'C:\\\\Users\\\\B R Y A N\\\\OneDrive\\\\Desktop\\\\learning-portfolio-bryanlimwayhern\\\\files, folders & os  exercises\\\\Cairo\\\\Cairo'",
      "\nDuring handling of the above exception, another exception occurred:\n",
      "\u001b[1;31mError\u001b[0m                                     Traceback (most recent call last)",
      "Cell \u001b[1;32mIn[13], line 31\u001b[0m\n\u001b[0;32m     28\u001b[0m destination_path \u001b[38;5;241m=\u001b[39m os\u001b[38;5;241m.\u001b[39mpath\u001b[38;5;241m.\u001b[39mjoin(destination_folder, file_name)\n\u001b[0;32m     30\u001b[0m \u001b[38;5;28;01mtry\u001b[39;00m:\n\u001b[1;32m---> 31\u001b[0m     shutil\u001b[38;5;241m.\u001b[39mmove(file_path, destination_path)\n\u001b[0;32m     32\u001b[0m     \u001b[38;5;28mprint\u001b[39m(\u001b[38;5;124mf\u001b[39m\u001b[38;5;124m'\u001b[39m\u001b[38;5;124mMoved \u001b[39m\u001b[38;5;132;01m{\u001b[39;00mfile_name\u001b[38;5;132;01m}\u001b[39;00m\u001b[38;5;124m to \u001b[39m\u001b[38;5;132;01m{\u001b[39;00mdestination_folder\u001b[38;5;132;01m}\u001b[39;00m\u001b[38;5;124m'\u001b[39m)\n\u001b[0;32m     33\u001b[0m \u001b[38;5;28;01mexcept\u001b[39;00m \u001b[38;5;167;01mPermissionError\u001b[39;00m:\n",
      "File \u001b[1;32m~\\miniconda3\\Lib\\shutil.py:833\u001b[0m, in \u001b[0;36mmove\u001b[1;34m(src, dst, copy_function)\u001b[0m\n\u001b[0;32m    831\u001b[0m \u001b[38;5;28;01melif\u001b[39;00m os\u001b[38;5;241m.\u001b[39mpath\u001b[38;5;241m.\u001b[39misdir(src):\n\u001b[0;32m    832\u001b[0m     \u001b[38;5;28;01mif\u001b[39;00m _destinsrc(src, dst):\n\u001b[1;32m--> 833\u001b[0m         \u001b[38;5;28;01mraise\u001b[39;00m Error(\u001b[38;5;124m\"\u001b[39m\u001b[38;5;124mCannot move a directory \u001b[39m\u001b[38;5;124m'\u001b[39m\u001b[38;5;132;01m%s\u001b[39;00m\u001b[38;5;124m'\u001b[39m\u001b[38;5;124m into itself\u001b[39m\u001b[38;5;124m\"\u001b[39m\n\u001b[0;32m    834\u001b[0m                     \u001b[38;5;124m\"\u001b[39m\u001b[38;5;124m \u001b[39m\u001b[38;5;124m'\u001b[39m\u001b[38;5;132;01m%s\u001b[39;00m\u001b[38;5;124m'\u001b[39m\u001b[38;5;124m.\u001b[39m\u001b[38;5;124m\"\u001b[39m \u001b[38;5;241m%\u001b[39m (src, dst))\n\u001b[0;32m    835\u001b[0m     \u001b[38;5;28;01mif\u001b[39;00m (_is_immutable(src)\n\u001b[0;32m    836\u001b[0m             \u001b[38;5;129;01mor\u001b[39;00m (\u001b[38;5;129;01mnot\u001b[39;00m os\u001b[38;5;241m.\u001b[39maccess(src, os\u001b[38;5;241m.\u001b[39mW_OK) \u001b[38;5;129;01mand\u001b[39;00m os\u001b[38;5;241m.\u001b[39mlistdir(src)\n\u001b[0;32m    837\u001b[0m                 \u001b[38;5;129;01mand\u001b[39;00m sys\u001b[38;5;241m.\u001b[39mplatform \u001b[38;5;241m==\u001b[39m \u001b[38;5;124m'\u001b[39m\u001b[38;5;124mdarwin\u001b[39m\u001b[38;5;124m'\u001b[39m)):\n\u001b[0;32m    838\u001b[0m         \u001b[38;5;28;01mraise\u001b[39;00m \u001b[38;5;167;01mPermissionError\u001b[39;00m(\u001b[38;5;124m\"\u001b[39m\u001b[38;5;124mCannot move the non-empty directory \u001b[39m\u001b[38;5;124m\"\u001b[39m\n\u001b[0;32m    839\u001b[0m                               \u001b[38;5;124m\"\u001b[39m\u001b[38;5;124m'\u001b[39m\u001b[38;5;132;01m%s\u001b[39;00m\u001b[38;5;124m'\u001b[39m\u001b[38;5;124m: Lacking write permission to \u001b[39m\u001b[38;5;124m'\u001b[39m\u001b[38;5;132;01m%s\u001b[39;00m\u001b[38;5;124m'\u001b[39m\u001b[38;5;124m.\u001b[39m\u001b[38;5;124m\"\u001b[39m\n\u001b[0;32m    840\u001b[0m                               \u001b[38;5;241m%\u001b[39m (src, src))\n",
      "\u001b[1;31mError\u001b[0m: Cannot move a directory 'Cairo' into itself 'C:\\Users\\B R Y A N\\OneDrive\\Desktop\\learning-portfolio-bryanlimwayhern\\files, folders & os  exercises\\Cairo\\Cairo'."
     ]
    }
   ],
   "source": [
    "import os\n",
    "import glob\n",
    "import shutil\n",
    "\n",
    "# List of cities\n",
    "cities = ['Cairo', 'Dhaka', 'Jakarta', 'Karachi', 'Manila',\n",
    "          'Melbourne', 'Osaka', 'Shanghai', 'Singapore', 'Tokyo']\n",
    "\n",
    "# Create folders for each city\n",
    "for city in cities:\n",
    "    folder_path = os.path.join(os.getcwd(), city)\n",
    "    \n",
    "    # Check if the folder already exists\n",
    "    if not os.path.exists(folder_path):\n",
    "        os.mkdir(folder_path)\n",
    "        print(f'Folder created for {city}: {folder_path}')\n",
    "    else:\n",
    "        print(f'Folder already exists for {city}: {folder_path}')\n",
    "\n",
    "# List all files related to Cairo\n",
    "cairo_files = glob.glob('Cairo*')\n",
    "\n",
    "# Move each file to the corresponding folder for all cities\n",
    "for city in cities:\n",
    "    for file_path in cairo_files:\n",
    "        file_name = os.path.basename(file_path)\n",
    "        destination_folder = os.path.join(os.getcwd(), city)\n",
    "        destination_path = os.path.join(destination_folder, file_name)\n",
    "\n",
    "        try:\n",
    "            shutil.move(file_path, destination_path)\n",
    "            print(f'Moved {file_name} to {destination_folder}')\n",
    "        except PermissionError:\n",
    "            print(f'Permission error: Unable to move {file_name} to {destination_folder}')\n"
   ]
  },
  {
   "cell_type": "code",
   "execution_count": null,
   "id": "c8213fc6",
   "metadata": {},
   "outputs": [],
   "source": []
  },
  {
   "cell_type": "code",
   "execution_count": null,
   "id": "2fc9d313",
   "metadata": {},
   "outputs": [],
   "source": []
  },
  {
   "cell_type": "code",
   "execution_count": null,
   "id": "e0cbbce9",
   "metadata": {},
   "outputs": [],
   "source": []
  },
  {
   "cell_type": "code",
   "execution_count": null,
   "id": "b7da8aed",
   "metadata": {},
   "outputs": [],
   "source": []
  }
 ],
 "metadata": {
  "kernelspec": {
   "display_name": "Python 3 (ipykernel)",
   "language": "python",
   "name": "python3"
  },
  "language_info": {
   "codemirror_mode": {
    "name": "ipython",
    "version": 3
   },
   "file_extension": ".py",
   "mimetype": "text/x-python",
   "name": "python",
   "nbconvert_exporter": "python",
   "pygments_lexer": "ipython3",
   "version": "3.11.5"
  },
  "toc": {
   "base_numbering": 1,
   "nav_menu": {},
   "number_sections": true,
   "sideBar": true,
   "skip_h1_title": false,
   "title_cell": "Table of Contents",
   "title_sidebar": "Contents",
   "toc_cell": false,
   "toc_position": {},
   "toc_section_display": true,
   "toc_window_display": false
  },
  "vscode": {
   "interpreter": {
    "hash": "31f2aee4e71d21fbe5cf8b01ff0e069b9275f58929596ceb00d14d90e3e16cd6"
   }
  }
 },
 "nbformat": 4,
 "nbformat_minor": 5
}
