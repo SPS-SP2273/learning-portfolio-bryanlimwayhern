{
 "cells": [
  {
   "cell_type": "markdown",
   "id": "123456",
   "metadata": {},
   "source": [
    "<div style=\"text-align:left;font-size:2em\"><span style=\"font-weight:bolder;font-size:1.25em\">SP2273 | Learning Portfolio</span><br><br><span style=\"font-weight:bold;color:darkred\">Functions (Need) Exercises</span></div>"
   ]
  },
  {
   "cell_type": "markdown",
   "id": "59975df7",
   "metadata": {},
   "source": [
    "## Exercise 1\n",
    "\n",
    "The following code works as expected despite not having an else statement. Please use a Markdown cell to explain why."
   ]
  },
  {
   "cell_type": "code",
   "execution_count": 1,
   "id": "4fff9ca1",
   "metadata": {},
   "outputs": [],
   "source": [
    "def greeting(name):\n",
    "    if name == 'Batman':\n",
    "        return 'Hello Batman! So, nice to meet you!'\n",
    "    return f'Hello {name}!'"
   ]
  },
  {
   "cell_type": "code",
   "execution_count": 5,
   "id": "e354c677",
   "metadata": {},
   "outputs": [
    {
     "data": {
      "text/plain": [
       "'Hello name!'"
      ]
     },
     "execution_count": 5,
     "metadata": {},
     "output_type": "execute_result"
    }
   ],
   "source": [
    "greeting('name')"
   ]
  },
  {
   "cell_type": "markdown",
   "id": "6a5d3e32",
   "metadata": {},
   "source": [
    "The provided code works as expected without an explicit \"else\" statement because it utilizes an \"if\" statement followed by a return statement, and then a subsequent return statement outside the \"if\" block. In this case, if the condition name == 'Batman' is true, the corresponding return statement within the \"if\" block is executed. If the condition is false, the code proceeds to the next return statement outside the \"if\" block.\n",
    "\n",
    "In essence, the absence of an \"else\" statement is compensated by the sequential nature of the code. If the condition is met, the function returns a specific greeting for 'Batman'; otherwise, it proceeds to the next return statement, providing a generic greeting for any other name. The function doesn't require an \"else\" statement because only one of the two return statements will be executed based on the condition, ensuring that the function returns the desired output in both cases."
   ]
  },
  {
   "cell_type": "markdown",
   "id": "c2e12f36",
   "metadata": {},
   "source": [
    "## Exercise 2\n",
    "\n",
    "Write a Python function named calculate_bmi.\n",
    "\n",
    "The function should take two parameters:\n",
    "weight (in kilograms) and height (in meters).\n",
    "\n",
    "The function should calculate the BMI (Body Mass Index) using the formula BMI = weight / (height ** 2).\n",
    "\n",
    "Based on the calculated BMI, the function should return a string indicating the BMI category based on the following criteria:\n",
    "\n",
    "|Category     |BMI Range                |\n",
    "|:---|---:|\n",
    "|Underweight |BMI less than 18.5|\n",
    "|Normal weight|BMI between 18.5 and 24.9|\n",
    "|Overweight|BMI between 25 and 29.9|\n",
    "|Obesity|BMI 30 or more|"
   ]
  },
  {
   "cell_type": "code",
   "execution_count": 6,
   "id": "889b5bdb",
   "metadata": {},
   "outputs": [],
   "source": [
    "def calculate_bmi(height, weight):\n",
    "    bmi = weight / (height ** 2)\n",
    "    if bmi < 18.5:\n",
    "        return \"Underweight\"\n",
    "    elif 18.5 <= bmi <= 24.9:\n",
    "        return \"Normal weight\"\n",
    "    elif 25 <= bmi <= 29.9:\n",
    "        return \"Overweight\"\n",
    "    else:\n",
    "        return \"Obesity\""
   ]
  },
  {
   "cell_type": "code",
   "execution_count": 8,
   "id": "2fed4c22",
   "metadata": {},
   "outputs": [
    {
     "data": {
      "text/plain": [
       "'Normal weight'"
      ]
     },
     "execution_count": 8,
     "metadata": {},
     "output_type": "execute_result"
    }
   ],
   "source": [
    "calculate_bmi(1.75, 75)"
   ]
  },
  {
   "cell_type": "code",
   "execution_count": 9,
   "id": "5e3f21a2",
   "metadata": {},
   "outputs": [
    {
     "data": {
      "text/plain": [
       "'Overweight'"
      ]
     },
     "execution_count": 9,
     "metadata": {},
     "output_type": "execute_result"
    }
   ],
   "source": [
    "calculate_bmi(1.75, 80)"
   ]
  },
  {
   "cell_type": "code",
   "execution_count": 10,
   "id": "3cea2e6e",
   "metadata": {},
   "outputs": [
    {
     "data": {
      "text/plain": [
       "'Underweight'"
      ]
     },
     "execution_count": 10,
     "metadata": {},
     "output_type": "execute_result"
    }
   ],
   "source": [
    "calculate_bmi(1.75, 50)"
   ]
  },
  {
   "cell_type": "code",
   "execution_count": 12,
   "id": "543fff8b",
   "metadata": {},
   "outputs": [
    {
     "data": {
      "text/plain": [
       "'Obesity'"
      ]
     },
     "execution_count": 12,
     "metadata": {},
     "output_type": "execute_result"
    }
   ],
   "source": [
    "calculate_bmi(1.75, 100)"
   ]
  },
  {
   "cell_type": "code",
   "execution_count": null,
   "id": "8a6cb85a",
   "metadata": {},
   "outputs": [],
   "source": []
  }
 ],
 "metadata": {
  "kernelspec": {
   "display_name": "Python 3 (ipykernel)",
   "language": "python",
   "name": "python3"
  },
  "language_info": {
   "codemirror_mode": {
    "name": "ipython",
    "version": 3
   },
   "file_extension": ".py",
   "mimetype": "text/x-python",
   "name": "python",
   "nbconvert_exporter": "python",
   "pygments_lexer": "ipython3",
   "version": "3.11.5"
  },
  "toc": {
   "base_numbering": 1,
   "nav_menu": {},
   "number_sections": true,
   "sideBar": true,
   "skip_h1_title": false,
   "title_cell": "Table of Contents",
   "title_sidebar": "Contents",
   "toc_cell": false,
   "toc_position": {},
   "toc_section_display": true,
   "toc_window_display": false
  },
  "vscode": {
   "interpreter": {
    "hash": "31f2aee4e71d21fbe5cf8b01ff0e069b9275f58929596ceb00d14d90e3e16cd6"
   }
  }
 },
 "nbformat": 4,
 "nbformat_minor": 5
}
