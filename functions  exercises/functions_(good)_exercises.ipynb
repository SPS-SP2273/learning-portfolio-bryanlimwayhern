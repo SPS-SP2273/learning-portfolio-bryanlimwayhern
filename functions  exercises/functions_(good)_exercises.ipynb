{
 "cells": [
  {
   "cell_type": "markdown",
   "id": "123456",
   "metadata": {},
   "source": [
    "<div style=\"text-align:left;font-size:2em\"><span style=\"font-weight:bolder;font-size:1.25em\">SP2273 | Learning Portfolio</span><br><br><span style=\"font-weight:bold;color:darkred\">Functions (Good) Exercises</span></div>"
   ]
  },
  {
   "cell_type": "markdown",
   "id": "fd422d9a",
   "metadata": {},
   "source": [
    "## Exercise 1"
   ]
  },
  {
   "cell_type": "code",
   "execution_count": 1,
   "id": "dd417ad6",
   "metadata": {},
   "outputs": [],
   "source": [
    "def convert_celsius(temperature_celsius, target_scale='Fahrenheit'):\n",
    "    if target_scale.upper() == 'KELVIN':\n",
    "        temperature_kelvin = temperature_celsius + 273.15\n",
    "        return temperature_kelvin\n",
    "    elif target_scale.upper() == 'FAHRENHEIT':\n",
    "        temperature_fahrenheit = (9/5 * temperature_celsius) + 32\n",
    "        return temperature_fahrenheit\n",
    "    else:\n",
    "        print(\"Invalid target scale. Please enter 'Fahrenheit' or 'Kelvin'.\")"
   ]
  },
  {
   "cell_type": "code",
   "execution_count": 3,
   "id": "41d814de",
   "metadata": {},
   "outputs": [
    {
     "name": "stdout",
     "output_type": "stream",
     "text": [
      "Enter temperature in Celsius: 34\n",
      "Enter target temperature scale (Fahrenheit/Kelvin): fahrenheit\n",
      "The temperature of 34.0 Celsius is 93.2 Fahrenheit\n"
     ]
    }
   ],
   "source": [
    "temperature_celsius = float(input(\"Enter temperature in Celsius: \"))\n",
    "target_scale = input(\"Enter target temperature scale (Fahrenheit/Kelvin): \")\n",
    "\n",
    "result = convert_celsius(temperature_celsius, target_scale)\n",
    "if result is not None:\n",
    "    print(f'The temperature of {temperature_celsius} Celsius is {result} {target_scale.capitalize()}')"
   ]
  },
  {
   "cell_type": "markdown",
   "id": "71aec89f",
   "metadata": {},
   "source": [
    "## Exercise 2"
   ]
  },
  {
   "cell_type": "code",
   "execution_count": 2,
   "id": "d854ee76",
   "metadata": {},
   "outputs": [],
   "source": [
    "def convert_fahrenheit(temperature_fahrenheit, target_scale = 'Celcius'):\n",
    "    if target_scale.upper() == 'KELVIN':\n",
    "        temperature_kelvin = result + 273.15\n",
    "        return temperature_kelvin\n",
    "    elif target_scale.upper() == 'CELCIUS':\n",
    "        temperature_celcius = 5/9 * (temperature_fahrenheit - 32) \n",
    "        return temperature_celcius \n",
    "    else:\n",
    "        print(\"Invalid target scale. Please enter 'Fahrenheit' or 'Kelvin'.\")\n",
    "    "
   ]
  },
  {
   "cell_type": "code",
   "execution_count": 16,
   "id": "9b30818f",
   "metadata": {},
   "outputs": [
    {
     "name": "stdout",
     "output_type": "stream",
     "text": [
      "Enter temperature in Fahrenheit: 57.98\n",
      "Enter target temperature scale (Celcius/Kelvin): celcius\n",
      "The temperature of 57.98 Fahrenheit is 14.433333333333332 celcius\n"
     ]
    }
   ],
   "source": [
    "temperature_fahrenheit = float(input(\"Enter temperature in Fahrenheit: \"))\n",
    "target_scale = input(\"Enter target temperature scale (Celcius/Kelvin): \")\n",
    "\n",
    "result = convert_fahrenheit(temperature_fahrenheit, target_scale)\n",
    "if result is not None: \n",
    "    print(f'The temperature of {temperature_fahrenheit} Fahrenheit is {result} {target_scale}')"
   ]
  },
  {
   "cell_type": "code",
   "execution_count": 18,
   "id": "dbc7197d",
   "metadata": {},
   "outputs": [
    {
     "name": "stdout",
     "output_type": "stream",
     "text": [
      "Enter temperature in Fahrenheit: 67.5\n",
      "Enter target temperature scale (Celcius/Kelvin): kelvin\n",
      "The temperature of 67.5 Fahrenheit is 287.5833333333333 kelvin\n"
     ]
    }
   ],
   "source": [
    "temperature_fahrenheit = float(input(\"Enter temperature in Fahrenheit: \"))\n",
    "target_scale = input(\"Enter target temperature scale (Celcius/Kelvin): \")\n",
    "\n",
    "result = convert_fahrenheit(temperature_fahrenheit, target_scale)\n",
    "if result is not None: \n",
    "    print(f'The temperature of {temperature_fahrenheit} Fahrenheit is {result} {target_scale}')"
   ]
  },
  {
   "cell_type": "markdown",
   "id": "14216f06",
   "metadata": {},
   "source": [
    "## Exercise 3"
   ]
  },
  {
   "cell_type": "code",
   "execution_count": 4,
   "id": "5dc520fa",
   "metadata": {},
   "outputs": [],
   "source": [
    "def convert_temperature(temperature, source_scale, target_scale):\n",
    "    if source_scale == 'Celsius':\n",
    "        return convert_celsius(temperature, target_scale)\n",
    "    elif source_scale == 'Fahrenheit':\n",
    "        return convert_fahrenheit(temperature, target_scale)\n",
    "    elif source_scale == 'Kelvin':\n",
    "        if target_scale == 'Celsius':\n",
    "            return temperature - 273.15\n",
    "        elif target_scale == 'Fahrenheit':\n",
    "            return (temperature - 273.15) * 9/5 + 32\n",
    "        else:\n",
    "            raise ValueError(\"Invalid target_scale. Please choose 'Celsius' or 'Fahrenheit'.\")\n",
    "    else:\n",
    "        raise ValueError(\"Invalid source_scale. Please choose 'Celsius', 'Fahrenheit', or 'Kelvin'.\")\n"
   ]
  },
  {
   "cell_type": "code",
   "execution_count": 9,
   "id": "ba6a8b99",
   "metadata": {},
   "outputs": [
    {
     "name": "stdout",
     "output_type": "stream",
     "text": [
      "Enter temperature: 60\n",
      "Enter source scale (Celcius/Fahrenheit/Kelvin): Fahrenheit\n",
      "Enter source scale (Celcius/Fahrenheit/Kelvin): Celcius\n",
      "The temperature of 60.0 Fahrenheit is 15.555555555555557 Celcius\n"
     ]
    }
   ],
   "source": [
    "temperature = float(input(\"Enter temperature: \"))\n",
    "source_scale = input(\"Enter source scale (Celcius/Fahrenheit/Kelvin): \")\n",
    "target_scale = input(\"Enter source scale (Celcius/Fahrenheit/Kelvin): \")\n",
    "\n",
    "result = convert_temperature(temperature, source_scale, target_scale)\n",
    "if result is not None: \n",
    "    print(f'The temperature of {temperature} {source_scale} is {result} {target_scale}')\n"
   ]
  },
  {
   "cell_type": "code",
   "execution_count": 10,
   "id": "45ff38e6",
   "metadata": {},
   "outputs": [
    {
     "name": "stdout",
     "output_type": "stream",
     "text": [
      "Enter temperature: 78\n",
      "Enter source scale (Celcius/Fahrenheit/Kelvin): Fahrenheit\n",
      "Enter source scale (Celcius/Fahrenheit/Kelvin): Celcius\n",
      "The temperature of 78.0 Fahrenheit is 25.555555555555557 Celcius\n"
     ]
    }
   ],
   "source": [
    "temperature = float(input(\"Enter temperature: \"))\n",
    "source_scale = input(\"Enter source scale (Celcius/Fahrenheit/Kelvin): \")\n",
    "target_scale = input(\"Enter source scale (Celcius/Fahrenheit/Kelvin): \")\n",
    "\n",
    "result = convert_temperature(temperature, source_scale, target_scale)\n",
    "if result is not None: \n",
    "    print(f'The temperature of {temperature} {source_scale} is {result} {target_scale}')\n"
   ]
  },
  {
   "cell_type": "code",
   "execution_count": 11,
   "id": "b165ab83",
   "metadata": {},
   "outputs": [
    {
     "name": "stdout",
     "output_type": "stream",
     "text": [
      "Enter temperature: 13\n",
      "Enter source scale (Celcius/Fahrenheit/Kelvin): Kelvin\n",
      "Enter source scale (Celcius/Fahrenheit/Kelvin): Celcius\n"
     ]
    },
    {
     "ename": "ValueError",
     "evalue": "Invalid target_scale. Please choose 'Celsius' or 'Fahrenheit'.",
     "output_type": "error",
     "traceback": [
      "\u001b[1;31m---------------------------------------------------------------------------\u001b[0m",
      "\u001b[1;31mValueError\u001b[0m                                Traceback (most recent call last)",
      "Cell \u001b[1;32mIn[11], line 5\u001b[0m\n\u001b[0;32m      2\u001b[0m source_scale \u001b[38;5;241m=\u001b[39m \u001b[38;5;28minput\u001b[39m(\u001b[38;5;124m\"\u001b[39m\u001b[38;5;124mEnter source scale (Celcius/Fahrenheit/Kelvin): \u001b[39m\u001b[38;5;124m\"\u001b[39m)\n\u001b[0;32m      3\u001b[0m target_scale \u001b[38;5;241m=\u001b[39m \u001b[38;5;28minput\u001b[39m(\u001b[38;5;124m\"\u001b[39m\u001b[38;5;124mEnter source scale (Celcius/Fahrenheit/Kelvin): \u001b[39m\u001b[38;5;124m\"\u001b[39m)\n\u001b[1;32m----> 5\u001b[0m result \u001b[38;5;241m=\u001b[39m convert_temperature(temperature, source_scale, target_scale)\n\u001b[0;32m      6\u001b[0m \u001b[38;5;28;01mif\u001b[39;00m result \u001b[38;5;129;01mis\u001b[39;00m \u001b[38;5;129;01mnot\u001b[39;00m \u001b[38;5;28;01mNone\u001b[39;00m: \n\u001b[0;32m      7\u001b[0m     \u001b[38;5;28mprint\u001b[39m(\u001b[38;5;124mf\u001b[39m\u001b[38;5;124m'\u001b[39m\u001b[38;5;124mThe temperature of \u001b[39m\u001b[38;5;132;01m{\u001b[39;00mtemperature\u001b[38;5;132;01m}\u001b[39;00m\u001b[38;5;124m \u001b[39m\u001b[38;5;132;01m{\u001b[39;00msource_scale\u001b[38;5;132;01m}\u001b[39;00m\u001b[38;5;124m is \u001b[39m\u001b[38;5;132;01m{\u001b[39;00mresult\u001b[38;5;132;01m}\u001b[39;00m\u001b[38;5;124m \u001b[39m\u001b[38;5;132;01m{\u001b[39;00mtarget_scale\u001b[38;5;132;01m}\u001b[39;00m\u001b[38;5;124m'\u001b[39m)\n",
      "Cell \u001b[1;32mIn[4], line 12\u001b[0m, in \u001b[0;36mconvert_temperature\u001b[1;34m(temperature, source_scale, target_scale)\u001b[0m\n\u001b[0;32m     10\u001b[0m         \u001b[38;5;28;01mreturn\u001b[39;00m (temperature \u001b[38;5;241m-\u001b[39m \u001b[38;5;241m273.15\u001b[39m) \u001b[38;5;241m*\u001b[39m \u001b[38;5;241m9\u001b[39m\u001b[38;5;241m/\u001b[39m\u001b[38;5;241m5\u001b[39m \u001b[38;5;241m+\u001b[39m \u001b[38;5;241m32\u001b[39m\n\u001b[0;32m     11\u001b[0m     \u001b[38;5;28;01melse\u001b[39;00m:\n\u001b[1;32m---> 12\u001b[0m         \u001b[38;5;28;01mraise\u001b[39;00m \u001b[38;5;167;01mValueError\u001b[39;00m(\u001b[38;5;124m\"\u001b[39m\u001b[38;5;124mInvalid target_scale. Please choose \u001b[39m\u001b[38;5;124m'\u001b[39m\u001b[38;5;124mCelsius\u001b[39m\u001b[38;5;124m'\u001b[39m\u001b[38;5;124m or \u001b[39m\u001b[38;5;124m'\u001b[39m\u001b[38;5;124mFahrenheit\u001b[39m\u001b[38;5;124m'\u001b[39m\u001b[38;5;124m.\u001b[39m\u001b[38;5;124m\"\u001b[39m)\n\u001b[0;32m     13\u001b[0m \u001b[38;5;28;01melse\u001b[39;00m:\n\u001b[0;32m     14\u001b[0m     \u001b[38;5;28;01mraise\u001b[39;00m \u001b[38;5;167;01mValueError\u001b[39;00m(\u001b[38;5;124m\"\u001b[39m\u001b[38;5;124mInvalid source_scale. Please choose \u001b[39m\u001b[38;5;124m'\u001b[39m\u001b[38;5;124mCelsius\u001b[39m\u001b[38;5;124m'\u001b[39m\u001b[38;5;124m, \u001b[39m\u001b[38;5;124m'\u001b[39m\u001b[38;5;124mFahrenheit\u001b[39m\u001b[38;5;124m'\u001b[39m\u001b[38;5;124m, or \u001b[39m\u001b[38;5;124m'\u001b[39m\u001b[38;5;124mKelvin\u001b[39m\u001b[38;5;124m'\u001b[39m\u001b[38;5;124m.\u001b[39m\u001b[38;5;124m\"\u001b[39m)\n",
      "\u001b[1;31mValueError\u001b[0m: Invalid target_scale. Please choose 'Celsius' or 'Fahrenheit'."
     ]
    }
   ],
   "source": [
    "temperature = float(input(\"Enter temperature: \"))\n",
    "source_scale = input(\"Enter source scale (Celcius/Fahrenheit/Kelvin): \")\n",
    "target_scale = input(\"Enter source scale (Celcius/Fahrenheit/Kelvin): \")\n",
    "\n",
    "result = convert_temperature(temperature, source_scale, target_scale)\n",
    "if result is not None: \n",
    "    print(f'The temperature of {temperature} {source_scale} is {result} {target_scale}')\n"
   ]
  },
  {
   "cell_type": "code",
   "execution_count": null,
   "id": "219d5a42",
   "metadata": {},
   "outputs": [],
   "source": []
  }
 ],
 "metadata": {
  "kernelspec": {
   "display_name": "Python 3 (ipykernel)",
   "language": "python",
   "name": "python3"
  },
  "language_info": {
   "codemirror_mode": {
    "name": "ipython",
    "version": 3
   },
   "file_extension": ".py",
   "mimetype": "text/x-python",
   "name": "python",
   "nbconvert_exporter": "python",
   "pygments_lexer": "ipython3",
   "version": "3.11.5"
  },
  "toc": {
   "base_numbering": 1,
   "nav_menu": {},
   "number_sections": true,
   "sideBar": true,
   "skip_h1_title": false,
   "title_cell": "Table of Contents",
   "title_sidebar": "Contents",
   "toc_cell": false,
   "toc_position": {},
   "toc_section_display": true,
   "toc_window_display": false
  },
  "vscode": {
   "interpreter": {
    "hash": "31f2aee4e71d21fbe5cf8b01ff0e069b9275f58929596ceb00d14d90e3e16cd6"
   }
  }
 },
 "nbformat": 4,
 "nbformat_minor": 5
}
