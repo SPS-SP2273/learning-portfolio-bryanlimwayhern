{
 "cells": [
  {
   "cell_type": "markdown",
   "id": "123456",
   "metadata": {},
   "source": [
    "<div style=\"text-align:left;font-size:2em\"><span style=\"font-weight:bolder;font-size:1.25em\">SP2273 | Learning Portfolio</span><br><br><span style=\"font-weight:bold;color:darkred\">Functions (Good) Exercises</span></div>"
   ]
  },
  {
   "cell_type": "markdown",
   "id": "fd422d9a",
   "metadata": {},
   "source": [
    "## Exercise 1"
   ]
  },
  {
   "cell_type": "code",
   "execution_count": 5,
   "id": "dd417ad6",
   "metadata": {},
   "outputs": [],
   "source": [
    "def convert_celsius(temperature_celsius, target_scale='Fahrenheit'):\n",
    "    if target_scale.upper() == 'KELVIN':\n",
    "        temperature_kelvin = temperature_celsius + 273.15\n",
    "        return temperature_kelvin\n",
    "    elif target_scale.upper() == 'FAHRENHEIT':\n",
    "        temperature_fahrenheit = (9/5 * temperature_celsius) + 32\n",
    "        return temperature_fahrenheit\n",
    "    else:\n",
    "        print(\"Invalid target scale. Please enter 'Fahrenheit' or 'Kelvin'.\")"
   ]
  },
  {
   "cell_type": "code",
   "execution_count": 3,
   "id": "41d814de",
   "metadata": {},
   "outputs": [
    {
     "name": "stdout",
     "output_type": "stream",
     "text": [
      "Enter temperature in Celsius: 34\n",
      "Enter target temperature scale (Fahrenheit/Kelvin): fahrenheit\n",
      "The temperature of 34.0 Celsius is 93.2 Fahrenheit\n"
     ]
    }
   ],
   "source": [
    "temperature_celsius = float(input(\"Enter temperature in Celsius: \"))\n",
    "target_scale = input(\"Enter target temperature scale (Fahrenheit/Kelvin): \")\n",
    "\n",
    "result = convert_celsius(temperature_celsius, target_scale)\n",
    "if result is not None:\n",
    "    print(f'The temperature of {temperature_celsius} Celsius is {result} {target_scale.capitalize()}')"
   ]
  },
  {
   "cell_type": "markdown",
   "id": "71aec89f",
   "metadata": {},
   "source": [
    "## Exercise 2"
   ]
  },
  {
   "cell_type": "code",
   "execution_count": 1,
   "id": "d854ee76",
   "metadata": {},
   "outputs": [],
   "source": [
    "def convert_fahrenheit(temperature_fahrenheit, target_scale='Celsius'):\n",
    "    if target_scale.upper() == 'KELVIN':\n",
    "        temperature_kelvin = (temperature_fahrenheit + 459.67) * 5/9\n",
    "        return temperature_kelvin\n",
    "    elif target_scale.upper() == 'CELSIUS':\n",
    "        temperature_celsius = (temperature_fahrenheit - 32) * 5/9\n",
    "        return temperature_celsius\n",
    "    else:\n",
    "        print(\"Invalid target scale. Please enter 'Celsius' or 'Kelvin'.\")\n"
   ]
  },
  {
   "cell_type": "code",
   "execution_count": 2,
   "id": "9b30818f",
   "metadata": {},
   "outputs": [
    {
     "name": "stdout",
     "output_type": "stream",
     "text": [
      "Enter temperature in Fahrenheit: 66\n",
      "Enter target temperature scale (Celsius/Kelvin): kelvin\n",
      "The temperature of 66.0 Fahrenheit is 292.03888888888895 kelvin\n"
     ]
    }
   ],
   "source": [
    "temperature_fahrenheit = float(input(\"Enter temperature in Fahrenheit: \"))\n",
    "target_scale = input(\"Enter target temperature scale (Celsius/Kelvin): \")\n",
    "\n",
    "result = convert_fahrenheit(temperature_fahrenheit, target_scale)\n",
    "if result is not None: \n",
    "    print(f'The temperature of {temperature_fahrenheit} Fahrenheit is {result} {target_scale}')"
   ]
  },
  {
   "cell_type": "code",
   "execution_count": 3,
   "id": "dbc7197d",
   "metadata": {},
   "outputs": [
    {
     "name": "stdout",
     "output_type": "stream",
     "text": [
      "Enter temperature in Fahrenheit: 78\n",
      "Enter target temperature scale (Celsius/Kelvin): celsius\n",
      "The temperature of 78.0 Fahrenheit is 25.555555555555557 celsius\n"
     ]
    }
   ],
   "source": [
    "temperature_fahrenheit = float(input(\"Enter temperature in Fahrenheit: \"))\n",
    "target_scale = input(\"Enter target temperature scale (Celsius/Kelvin): \")\n",
    "\n",
    "result = convert_fahrenheit(temperature_fahrenheit, target_scale)\n",
    "if result is not None: \n",
    "    print(f'The temperature of {temperature_fahrenheit} Fahrenheit is {result} {target_scale}')"
   ]
  },
  {
   "cell_type": "markdown",
   "id": "14216f06",
   "metadata": {},
   "source": [
    "## Exercise 3"
   ]
  },
  {
   "cell_type": "code",
   "execution_count": 2,
   "id": "5dc520fa",
   "metadata": {},
   "outputs": [],
   "source": [
    "def convert_temperature(temperature, source_scale, target_scale):\n",
    "    if source_scale == 'Celsius':\n",
    "        return convert_celsius(temperature, target_scale)\n",
    "    elif source_scale == 'Fahrenheit':\n",
    "        return convert_fahrenheit(temperature, target_scale)\n",
    "    elif source_scale == 'Kelvin':\n",
    "        return convert_kelvin(temperature, target_scale)\n",
    "    else:\n",
    "        raise ValueError(\"Invalid source_scale. Please choose 'Celsius', 'Fahrenheit', or 'Kelvin'.\")\n",
    "\n",
    "def convert_kelvin(temperature, target_scale):\n",
    "    if target_scale == 'Celsius':\n",
    "        return temperature - 273.15\n",
    "    elif target_scale == 'Fahrenheit':\n",
    "        return (temperature - 273.15) * 9/5 + 32\n",
    "    else:\n",
    "        raise ValueError(\"Invalid target_scale. Please choose 'Celsius' or 'Fahrenheit'.\")\n"
   ]
  },
  {
   "cell_type": "code",
   "execution_count": 6,
   "id": "ba6a8b99",
   "metadata": {},
   "outputs": [
    {
     "name": "stdout",
     "output_type": "stream",
     "text": [
      "Enter temperature: 60\n",
      "Enter source scale (Celsius/Fahrenheit/Kelvin): Fahrenheit\n",
      "Enter source scale (Celsius/Fahrenheit/Kelvin): Celsius\n",
      "The temperature of 60.0 Fahrenheit is 15.555555555555555 Celsius\n"
     ]
    }
   ],
   "source": [
    "temperature = float(input(\"Enter temperature: \"))\n",
    "source_scale = input(\"Enter source scale (Celsius/Fahrenheit/Kelvin): \")\n",
    "target_scale = input(\"Enter source scale (Celsius/Fahrenheit/Kelvin): \")\n",
    "\n",
    "result = convert_temperature(temperature, source_scale, target_scale)\n",
    "if result is not None: \n",
    "    print(f'The temperature of {temperature} {source_scale} is {result} {target_scale}')\n"
   ]
  },
  {
   "cell_type": "code",
   "execution_count": 7,
   "id": "45ff38e6",
   "metadata": {},
   "outputs": [
    {
     "name": "stdout",
     "output_type": "stream",
     "text": [
      "Enter temperature: 78\n",
      "Enter source scale (Celsius/Fahrenheit/Kelvin): Celsius\n",
      "Enter source scale (Celsius/Fahrenheit/Kelvin): Fahrenheit\n",
      "The temperature of 78.0 Celsius is 172.4 Fahrenheit\n"
     ]
    }
   ],
   "source": [
    "temperature = float(input(\"Enter temperature: \"))\n",
    "source_scale = input(\"Enter source scale (Celsius/Fahrenheit/Kelvin): \")\n",
    "target_scale = input(\"Enter source scale (Celsius/Fahrenheit/Kelvin): \")\n",
    "\n",
    "result = convert_temperature(temperature, source_scale, target_scale)\n",
    "if result is not None: \n",
    "    print(f'The temperature of {temperature} {source_scale} is {result} {target_scale}')\n"
   ]
  },
  {
   "cell_type": "code",
   "execution_count": 8,
   "id": "b165ab83",
   "metadata": {},
   "outputs": [
    {
     "name": "stdout",
     "output_type": "stream",
     "text": [
      "Enter temperature: 56\n",
      "Enter source scale (Celcius/Fahrenheit/Kelvin): Celsius\n",
      "Enter source scale (Celcius/Fahrenheit/Kelvin): Kelvin\n",
      "The temperature of 56.0 Celsius is 329.15 Kelvin\n"
     ]
    }
   ],
   "source": [
    "temperature = float(input(\"Enter temperature: \"))\n",
    "source_scale = input(\"Enter source scale (Celcius/Fahrenheit/Kelvin): \")\n",
    "target_scale = input(\"Enter source scale (Celcius/Fahrenheit/Kelvin): \")\n",
    "\n",
    "result = convert_temperature(temperature, source_scale, target_scale)\n",
    "if result is not None: \n",
    "    print(f'The temperature of {temperature} {source_scale} is {result} {target_scale}')\n"
   ]
  },
  {
   "cell_type": "code",
   "execution_count": 9,
   "id": "219d5a42",
   "metadata": {},
   "outputs": [
    {
     "name": "stdout",
     "output_type": "stream",
     "text": [
      "Enter temperature: 45\n",
      "Enter source scale (Celcius/Fahrenheit/Kelvin): Fahrenheit\n",
      "Enter source scale (Celcius/Fahrenheit/Kelvin): Kelvin\n",
      "The temperature of 45.0 Fahrenheit is 280.3722222222222 Kelvin\n"
     ]
    }
   ],
   "source": [
    "temperature = float(input(\"Enter temperature: \"))\n",
    "source_scale = input(\"Enter source scale (Celcius/Fahrenheit/Kelvin): \")\n",
    "target_scale = input(\"Enter source scale (Celcius/Fahrenheit/Kelvin): \")\n",
    "\n",
    "result = convert_temperature(temperature, source_scale, target_scale)\n",
    "if result is not None: \n",
    "    print(f'The temperature of {temperature} {source_scale} is {result} {target_scale}')\n"
   ]
  },
  {
   "cell_type": "code",
   "execution_count": null,
   "id": "6f2229af",
   "metadata": {},
   "outputs": [],
   "source": []
  }
 ],
 "metadata": {
  "kernelspec": {
   "display_name": "Python 3 (ipykernel)",
   "language": "python",
   "name": "python3"
  },
  "language_info": {
   "codemirror_mode": {
    "name": "ipython",
    "version": 3
   },
   "file_extension": ".py",
   "mimetype": "text/x-python",
   "name": "python",
   "nbconvert_exporter": "python",
   "pygments_lexer": "ipython3",
   "version": "3.11.5"
  },
  "toc": {
   "base_numbering": 1,
   "nav_menu": {},
   "number_sections": true,
   "sideBar": true,
   "skip_h1_title": false,
   "title_cell": "Table of Contents",
   "title_sidebar": "Contents",
   "toc_cell": false,
   "toc_position": {},
   "toc_section_display": true,
   "toc_window_display": false
  },
  "vscode": {
   "interpreter": {
    "hash": "31f2aee4e71d21fbe5cf8b01ff0e069b9275f58929596ceb00d14d90e3e16cd6"
   }
  }
 },
 "nbformat": 4,
 "nbformat_minor": 5
}
