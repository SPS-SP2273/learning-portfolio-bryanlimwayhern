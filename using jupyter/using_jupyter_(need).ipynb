{
 "cells": [
  {
   "cell_type": "markdown",
   "id": "123456",
   "metadata": {},
   "source": [
    "<div style=\"text-align:left;font-size:2em\"><span style=\"font-weight:bolder;font-size:1.25em\">SP2273 | Learning Portfolio</span><br><br><span style=\"font-weight:bold;color:darkred\">Using Jupyter (Need)</span></div>"
   ]
  },
  {
   "cell_type": "code",
   "execution_count": 1,
   "id": "f5f11620",
   "metadata": {},
   "outputs": [
    {
     "name": "stdout",
     "output_type": "stream",
     "text": [
      "Hello World\n"
     ]
    }
   ],
   "source": [
    "print('Hello World')"
   ]
  },
  {
   "cell_type": "markdown",
   "id": "f103b165",
   "metadata": {},
   "source": [
    "# All About Markdown"
   ]
  },
  {
   "cell_type": "markdown",
   "id": "14b74e41",
   "metadata": {},
   "source": [
    "The ships *hung in the sky* in much the same way that **bricks don’t**<sup>1</sup><sub>QUOTE</sub>."
   ]
  },
  {
   "cell_type": "markdown",
   "id": "686c4a59",
   "metadata": {},
   "source": [
    "# 2 Getting started with Jupyter"
   ]
  },
  {
   "cell_type": "markdown",
   "id": "c27268e9",
   "metadata": {},
   "source": [
    "## 2.1 It is all about running cells"
   ]
  },
  {
   "cell_type": "code",
   "execution_count": 1,
   "id": "16595bb7",
   "metadata": {},
   "outputs": [
    {
     "name": "stdout",
     "output_type": "stream",
     "text": [
      "6\n"
     ]
    }
   ],
   "source": [
    "a = 4 \n",
    "b = 2\n",
    "c = a + b \n",
    "print (c)\n"
   ]
  },
  {
   "cell_type": "markdown",
   "id": "59ba879d",
   "metadata": {},
   "source": [
    "## 2.2 A traditional start"
   ]
  },
  {
   "cell_type": "markdown",
   "id": "3f4b61a3",
   "metadata": {},
   "source": [
    "Select a cell and convert it into a code cell.\n",
    "Actually, all new cells are, by default, code cells."
   ]
  },
  {
   "cell_type": "code",
   "execution_count": 4,
   "id": "6402100e",
   "metadata": {},
   "outputs": [
    {
     "name": "stdout",
     "output_type": "stream",
     "text": [
      "hello world\n"
     ]
    }
   ],
   "source": [
    "print ('hello world')"
   ]
  },
  {
   "cell_type": "markdown",
   "id": "54e230c1",
   "metadata": {},
   "source": [
    "# 3 All about Markdown"
   ]
  },
  {
   "cell_type": "markdown",
   "id": "b901427b",
   "metadata": {},
   "source": [
    "Markdown is a minimalist ‘language’ that helps you to format your writing. Despite being lightweight, it is very powerful and gives fantastic results. Because it is simple and distraction-free, I often prefer to use Markdown when I write, as it helps me focus on the content."
   ]
  },
  {
   "cell_type": "markdown",
   "id": "413e5d78",
   "metadata": {},
   "source": [
    "## 3.1 Rendering Markdown cells"
   ]
  },
  {
   "cell_type": "markdown",
   "id": "c6f1b18e",
   "metadata": {},
   "source": [
    "The ships hung in the sky in much the same way that bricks don’t."
   ]
  },
  {
   "cell_type": "markdown",
   "id": "875b76ba",
   "metadata": {},
   "source": [
    "## 3.2 Some basic syntax"
   ]
  },
  {
   "cell_type": "markdown",
   "id": "9440f99f",
   "metadata": {},
   "source": [
    "|**Style** | **Syntax** |\n",
    "|:---|---:|\n",
    "|Bold|** ** |\n",
    "|Italic|* * |\n",
    "|Subscript| < sub > |"
   ]
  },
  {
   "cell_type": "markdown",
   "id": "1239b839",
   "metadata": {},
   "source": [
    "The ships *hung in the sky* in much the same way that **bricks don’t**<sup>1</sup><sub>QUOTE</sub>."
   ]
  },
  {
   "cell_type": "markdown",
   "id": "38efb96a",
   "metadata": {},
   "source": [
    "## 3.3 Headings"
   ]
  },
  {
   "cell_type": "markdown",
   "id": "2d232fd6",
   "metadata": {},
   "source": [
    "# The largest heading\n",
    "\n",
    "## The second-largest heading\n",
    "\n",
    "### The third-largest heading\n",
    "\n",
    "#### The smallest heading"
   ]
  },
  {
   "cell_type": "markdown",
   "id": "737a68ad",
   "metadata": {},
   "source": []
  },
  {
   "cell_type": "markdown",
   "id": "33fccf58",
   "metadata": {},
   "source": [
    "## 3.4 Displaying Code"
   ]
  },
  {
   "cell_type": "markdown",
   "id": "30df56ea",
   "metadata": {},
   "source": [
    "`print('Hello World')`"
   ]
  },
  {
   "cell_type": "markdown",
   "id": "b54bc902",
   "metadata": {},
   "source": []
  },
  {
   "cell_type": "markdown",
   "id": "ab56a324",
   "metadata": {},
   "source": [
    "## 3.5 Links"
   ]
  },
  {
   "cell_type": "markdown",
   "id": "5b3ced94",
   "metadata": {},
   "source": [
    "[SP2273 Website](https://sps.nus.edu.sg/sp2273)"
   ]
  },
  {
   "cell_type": "markdown",
   "id": "19ac06e9",
   "metadata": {},
   "source": [
    "## 3.6 Images"
   ]
  },
  {
   "cell_type": "markdown",
   "id": "28e06b2f",
   "metadata": {},
   "source": [
    "![](https://nus.edu.sg/images/default-source/base/logo.png)"
   ]
  },
  {
   "cell_type": "markdown",
   "id": "dd52ca50",
   "metadata": {},
   "source": [
    "## 3.7 Tables"
   ]
  },
  {
   "cell_type": "markdown",
   "id": "9a765f86",
   "metadata": {},
   "source": [
    "|A   |B   |C   |\n",
    "|:---|:--:|---:|\n",
    "|a1  |b1  |c1  |"
   ]
  },
  {
   "cell_type": "markdown",
   "id": "51622e5f",
   "metadata": {},
   "source": [
    "## 3.8 Lists"
   ]
  },
  {
   "cell_type": "markdown",
   "id": "4cf90b35",
   "metadata": {},
   "source": [
    "1. odwneod\n",
    "1. woednfowe\n",
    "1. wnsdown"
   ]
  },
  {
   "cell_type": "markdown",
   "id": "60e51de2",
   "metadata": {},
   "source": [
    "-ownedwo\n",
    "\n",
    "-wocn cow\n",
    "\n",
    "-wkenjd"
   ]
  },
  {
   "cell_type": "markdown",
   "id": "55adea4e",
   "metadata": {},
   "source": [
    "## 3.9 Equations"
   ]
  },
  {
   "cell_type": "markdown",
   "id": "1d9e64ba",
   "metadata": {},
   "source": [
    "$\\sqrt{b^2-4ac}$"
   ]
  },
  {
   "cell_type": "markdown",
   "id": "eadea37f",
   "metadata": {},
   "source": [
    "For a math block: \n",
    "\n",
    "$$\n",
    "x = \\dfrac{-b \\pm \\sqrt{b^2-4ac}}{2a}\n",
    "$$"
   ]
  },
  {
   "cell_type": "markdown",
   "id": "852881b9",
   "metadata": {},
   "source": [
    "Some useful commands: \n",
    "\n",
    "|         |Input       |Rendered     | \n",
    "|:--------|:---------:|-----:|\n",
    "|Fraction|`$\\dfrac{y}{x}$`|$\\dfrac{y}{x}$|\n",
    "|Subscript|`$x_{a}$`|$x_{a}$|\n",
    "|Squareroot|`$\\sqrt{a+b+c}$`|$$\\sqrt{a+b+c}$$|"
   ]
  },
  {
   "cell_type": "markdown",
   "id": "d40874ec",
   "metadata": {},
   "source": [
    "## Footnotes"
   ]
  },
  {
   "cell_type": "markdown",
   "id": "a46de384",
   "metadata": {},
   "source": [
    "this is a [^footnote]\n",
    "\n",
    "[^footnote]: test"
   ]
  },
  {
   "cell_type": "code",
   "execution_count": null,
   "id": "def341c6",
   "metadata": {},
   "outputs": [],
   "source": []
  }
 ],
 "metadata": {
  "kernelspec": {
   "display_name": "Python 3 (ipykernel)",
   "language": "python",
   "name": "python3"
  },
  "language_info": {
   "codemirror_mode": {
    "name": "ipython",
    "version": 3
   },
   "file_extension": ".py",
   "mimetype": "text/x-python",
   "name": "python",
   "nbconvert_exporter": "python",
   "pygments_lexer": "ipython3",
   "version": "3.11.5"
  },
  "toc": {
   "base_numbering": 1,
   "nav_menu": {},
   "number_sections": true,
   "sideBar": true,
   "skip_h1_title": false,
   "title_cell": "Table of Contents",
   "title_sidebar": "Contents",
   "toc_cell": false,
   "toc_position": {},
   "toc_section_display": true,
   "toc_window_display": false
  },
  "vscode": {
   "interpreter": {
    "hash": "31f2aee4e71d21fbe5cf8b01ff0e069b9275f58929596ceb00d14d90e3e16cd6"
   }
  }
 },
 "nbformat": 4,
 "nbformat_minor": 5
}
